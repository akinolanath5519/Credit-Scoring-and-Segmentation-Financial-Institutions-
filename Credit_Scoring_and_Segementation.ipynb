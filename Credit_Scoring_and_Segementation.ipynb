{
  "nbformat": 4,
  "nbformat_minor": 0,
  "metadata": {
    "colab": {
      "provenance": [],
      "authorship_tag": "ABX9TyPCm/DSYTHgpW6b836r4Mxn",
      "include_colab_link": true
    },
    "kernelspec": {
      "name": "python3",
      "display_name": "Python 3"
    },
    "language_info": {
      "name": "python"
    }
  },
  "cells": [
    {
      "cell_type": "markdown",
      "metadata": {
        "id": "view-in-github",
        "colab_type": "text"
      },
      "source": [
        "<a href=\"https://colab.research.google.com/github/akinolanath5519/Credit-Scoring-and-Segmentation-Financial-Institutions-/blob/main/Credit_Scoring_and_Segementation.ipynb\" target=\"_parent\"><img src=\"https://colab.research.google.com/assets/colab-badge.svg\" alt=\"Open In Colab\"/></a>"
      ]
    },
    {
      "cell_type": "code",
      "execution_count": 2,
      "metadata": {
        "id": "z9F83SQJh8pN"
      },
      "outputs": [],
      "source": [
        "import pandas as pd\n",
        "import numpy as np\n",
        "import seaborn as sns\n",
        "import matplotlib.pyplot as plt\n",
        "import plotly.graph_objects as go\n",
        "import plotly.express as px\n",
        "import plotly.io as pio\n",
        "pio.templates.default = \"plotly_white\"\n"
      ]
    },
    {
      "cell_type": "markdown",
      "source": [
        "Credit scoring aims to determine the creditworthiness of individuals based on their credit profiles. By analyzing factors such as payment history, credit utilization ratio, and number of credit accounts, we can assign a credit score to each individual, providing a quantitative measure of their creditworthiness.\n",
        "\n",
        "The given dataset includes features such as age, gender, marital status, education level, employment status, credit utilization ratio, payment history, number of credit accounts, loan amount, interest rate, loan term, type of loan, and income level.\n"
      ],
      "metadata": {
        "id": "KugIalXxi7w2"
      }
    },
    {
      "cell_type": "code",
      "source": [
        "from google.colab import files\n",
        "data=files.upload()"
      ],
      "metadata": {
        "colab": {
          "base_uri": "https://localhost:8080/",
          "height": 73
        },
        "id": "La_3QWm3iXpN",
        "outputId": "a7dd17d8-8a64-40fc-bfc9-dfac7c5587fa"
      },
      "execution_count": 4,
      "outputs": [
        {
          "output_type": "display_data",
          "data": {
            "text/plain": [
              "<IPython.core.display.HTML object>"
            ],
            "text/html": [
              "\n",
              "     <input type=\"file\" id=\"files-c4f336d7-0b10-4cbe-ae93-65ac0bcc1737\" name=\"files[]\" multiple disabled\n",
              "        style=\"border:none\" />\n",
              "     <output id=\"result-c4f336d7-0b10-4cbe-ae93-65ac0bcc1737\">\n",
              "      Upload widget is only available when the cell has been executed in the\n",
              "      current browser session. Please rerun this cell to enable.\n",
              "      </output>\n",
              "      <script>// Copyright 2017 Google LLC\n",
              "//\n",
              "// Licensed under the Apache License, Version 2.0 (the \"License\");\n",
              "// you may not use this file except in compliance with the License.\n",
              "// You may obtain a copy of the License at\n",
              "//\n",
              "//      http://www.apache.org/licenses/LICENSE-2.0\n",
              "//\n",
              "// Unless required by applicable law or agreed to in writing, software\n",
              "// distributed under the License is distributed on an \"AS IS\" BASIS,\n",
              "// WITHOUT WARRANTIES OR CONDITIONS OF ANY KIND, either express or implied.\n",
              "// See the License for the specific language governing permissions and\n",
              "// limitations under the License.\n",
              "\n",
              "/**\n",
              " * @fileoverview Helpers for google.colab Python module.\n",
              " */\n",
              "(function(scope) {\n",
              "function span(text, styleAttributes = {}) {\n",
              "  const element = document.createElement('span');\n",
              "  element.textContent = text;\n",
              "  for (const key of Object.keys(styleAttributes)) {\n",
              "    element.style[key] = styleAttributes[key];\n",
              "  }\n",
              "  return element;\n",
              "}\n",
              "\n",
              "// Max number of bytes which will be uploaded at a time.\n",
              "const MAX_PAYLOAD_SIZE = 100 * 1024;\n",
              "\n",
              "function _uploadFiles(inputId, outputId) {\n",
              "  const steps = uploadFilesStep(inputId, outputId);\n",
              "  const outputElement = document.getElementById(outputId);\n",
              "  // Cache steps on the outputElement to make it available for the next call\n",
              "  // to uploadFilesContinue from Python.\n",
              "  outputElement.steps = steps;\n",
              "\n",
              "  return _uploadFilesContinue(outputId);\n",
              "}\n",
              "\n",
              "// This is roughly an async generator (not supported in the browser yet),\n",
              "// where there are multiple asynchronous steps and the Python side is going\n",
              "// to poll for completion of each step.\n",
              "// This uses a Promise to block the python side on completion of each step,\n",
              "// then passes the result of the previous step as the input to the next step.\n",
              "function _uploadFilesContinue(outputId) {\n",
              "  const outputElement = document.getElementById(outputId);\n",
              "  const steps = outputElement.steps;\n",
              "\n",
              "  const next = steps.next(outputElement.lastPromiseValue);\n",
              "  return Promise.resolve(next.value.promise).then((value) => {\n",
              "    // Cache the last promise value to make it available to the next\n",
              "    // step of the generator.\n",
              "    outputElement.lastPromiseValue = value;\n",
              "    return next.value.response;\n",
              "  });\n",
              "}\n",
              "\n",
              "/**\n",
              " * Generator function which is called between each async step of the upload\n",
              " * process.\n",
              " * @param {string} inputId Element ID of the input file picker element.\n",
              " * @param {string} outputId Element ID of the output display.\n",
              " * @return {!Iterable<!Object>} Iterable of next steps.\n",
              " */\n",
              "function* uploadFilesStep(inputId, outputId) {\n",
              "  const inputElement = document.getElementById(inputId);\n",
              "  inputElement.disabled = false;\n",
              "\n",
              "  const outputElement = document.getElementById(outputId);\n",
              "  outputElement.innerHTML = '';\n",
              "\n",
              "  const pickedPromise = new Promise((resolve) => {\n",
              "    inputElement.addEventListener('change', (e) => {\n",
              "      resolve(e.target.files);\n",
              "    });\n",
              "  });\n",
              "\n",
              "  const cancel = document.createElement('button');\n",
              "  inputElement.parentElement.appendChild(cancel);\n",
              "  cancel.textContent = 'Cancel upload';\n",
              "  const cancelPromise = new Promise((resolve) => {\n",
              "    cancel.onclick = () => {\n",
              "      resolve(null);\n",
              "    };\n",
              "  });\n",
              "\n",
              "  // Wait for the user to pick the files.\n",
              "  const files = yield {\n",
              "    promise: Promise.race([pickedPromise, cancelPromise]),\n",
              "    response: {\n",
              "      action: 'starting',\n",
              "    }\n",
              "  };\n",
              "\n",
              "  cancel.remove();\n",
              "\n",
              "  // Disable the input element since further picks are not allowed.\n",
              "  inputElement.disabled = true;\n",
              "\n",
              "  if (!files) {\n",
              "    return {\n",
              "      response: {\n",
              "        action: 'complete',\n",
              "      }\n",
              "    };\n",
              "  }\n",
              "\n",
              "  for (const file of files) {\n",
              "    const li = document.createElement('li');\n",
              "    li.append(span(file.name, {fontWeight: 'bold'}));\n",
              "    li.append(span(\n",
              "        `(${file.type || 'n/a'}) - ${file.size} bytes, ` +\n",
              "        `last modified: ${\n",
              "            file.lastModifiedDate ? file.lastModifiedDate.toLocaleDateString() :\n",
              "                                    'n/a'} - `));\n",
              "    const percent = span('0% done');\n",
              "    li.appendChild(percent);\n",
              "\n",
              "    outputElement.appendChild(li);\n",
              "\n",
              "    const fileDataPromise = new Promise((resolve) => {\n",
              "      const reader = new FileReader();\n",
              "      reader.onload = (e) => {\n",
              "        resolve(e.target.result);\n",
              "      };\n",
              "      reader.readAsArrayBuffer(file);\n",
              "    });\n",
              "    // Wait for the data to be ready.\n",
              "    let fileData = yield {\n",
              "      promise: fileDataPromise,\n",
              "      response: {\n",
              "        action: 'continue',\n",
              "      }\n",
              "    };\n",
              "\n",
              "    // Use a chunked sending to avoid message size limits. See b/62115660.\n",
              "    let position = 0;\n",
              "    do {\n",
              "      const length = Math.min(fileData.byteLength - position, MAX_PAYLOAD_SIZE);\n",
              "      const chunk = new Uint8Array(fileData, position, length);\n",
              "      position += length;\n",
              "\n",
              "      const base64 = btoa(String.fromCharCode.apply(null, chunk));\n",
              "      yield {\n",
              "        response: {\n",
              "          action: 'append',\n",
              "          file: file.name,\n",
              "          data: base64,\n",
              "        },\n",
              "      };\n",
              "\n",
              "      let percentDone = fileData.byteLength === 0 ?\n",
              "          100 :\n",
              "          Math.round((position / fileData.byteLength) * 100);\n",
              "      percent.textContent = `${percentDone}% done`;\n",
              "\n",
              "    } while (position < fileData.byteLength);\n",
              "  }\n",
              "\n",
              "  // All done.\n",
              "  yield {\n",
              "    response: {\n",
              "      action: 'complete',\n",
              "    }\n",
              "  };\n",
              "}\n",
              "\n",
              "scope.google = scope.google || {};\n",
              "scope.google.colab = scope.google.colab || {};\n",
              "scope.google.colab._files = {\n",
              "  _uploadFiles,\n",
              "  _uploadFilesContinue,\n",
              "};\n",
              "})(self);\n",
              "</script> "
            ]
          },
          "metadata": {}
        },
        {
          "output_type": "stream",
          "name": "stdout",
          "text": [
            "Saving credit_scoring.csv to credit_scoring (1).csv\n"
          ]
        }
      ]
    },
    {
      "cell_type": "code",
      "source": [
        "data = pd.read_csv(\"credit_scoring.csv\")\n",
        "data"
      ],
      "metadata": {
        "colab": {
          "base_uri": "https://localhost:8080/",
          "height": 493
        },
        "id": "uhNJhEybjyEe",
        "outputId": "62f9b0ec-62fd-4847-fad2-5eebacaf45dc"
      },
      "execution_count": 6,
      "outputs": [
        {
          "output_type": "execute_result",
          "data": {
            "text/plain": [
              "     Age  Gender Marital Status Education Level Employment Status  \\\n",
              "0     60    Male        Married          Master          Employed   \n",
              "1     25    Male        Married     High School        Unemployed   \n",
              "2     30  Female         Single          Master          Employed   \n",
              "3     58  Female        Married             PhD        Unemployed   \n",
              "4     32    Male        Married        Bachelor     Self-Employed   \n",
              "..   ...     ...            ...             ...               ...   \n",
              "995   59    Male       Divorced     High School          Employed   \n",
              "996   64    Male       Divorced        Bachelor        Unemployed   \n",
              "997   63  Female         Single          Master     Self-Employed   \n",
              "998   51  Female        Married             PhD     Self-Employed   \n",
              "999   37  Female        Married          Master     Self-Employed   \n",
              "\n",
              "     Credit Utilization Ratio  Payment History  Number of Credit Accounts  \\\n",
              "0                        0.22           2685.0                          2   \n",
              "1                        0.20           2371.0                          9   \n",
              "2                        0.22           2771.0                          6   \n",
              "3                        0.12           1371.0                          2   \n",
              "4                        0.99            828.0                          2   \n",
              "..                        ...              ...                        ...   \n",
              "995                      0.74           1285.0                          8   \n",
              "996                      0.77           1857.0                          2   \n",
              "997                      0.18           2628.0                         10   \n",
              "998                      0.32           1142.0                          3   \n",
              "999                      0.17           1028.0                          5   \n",
              "\n",
              "     Loan Amount  Interest Rate  Loan Term   Type of Loan  \n",
              "0        4675000           2.65         48  Personal Loan  \n",
              "1        3619000           5.19         60      Auto Loan  \n",
              "2         957000           2.76         12      Auto Loan  \n",
              "3        4731000           6.57         60      Auto Loan  \n",
              "4        3289000           6.28         36  Personal Loan  \n",
              "..           ...            ...        ...            ...  \n",
              "995      3530000          12.99         48      Auto Loan  \n",
              "996      1377000          18.02         60      Home Loan  \n",
              "997      2443000          18.95         12  Personal Loan  \n",
              "998      1301000           1.80         24      Auto Loan  \n",
              "999      4182000           9.34         24      Auto Loan  \n",
              "\n",
              "[1000 rows x 12 columns]"
            ],
            "text/html": [
              "\n",
              "  <div id=\"df-48327aba-678a-48ae-8ba2-16303bc84102\" class=\"colab-df-container\">\n",
              "    <div>\n",
              "<style scoped>\n",
              "    .dataframe tbody tr th:only-of-type {\n",
              "        vertical-align: middle;\n",
              "    }\n",
              "\n",
              "    .dataframe tbody tr th {\n",
              "        vertical-align: top;\n",
              "    }\n",
              "\n",
              "    .dataframe thead th {\n",
              "        text-align: right;\n",
              "    }\n",
              "</style>\n",
              "<table border=\"1\" class=\"dataframe\">\n",
              "  <thead>\n",
              "    <tr style=\"text-align: right;\">\n",
              "      <th></th>\n",
              "      <th>Age</th>\n",
              "      <th>Gender</th>\n",
              "      <th>Marital Status</th>\n",
              "      <th>Education Level</th>\n",
              "      <th>Employment Status</th>\n",
              "      <th>Credit Utilization Ratio</th>\n",
              "      <th>Payment History</th>\n",
              "      <th>Number of Credit Accounts</th>\n",
              "      <th>Loan Amount</th>\n",
              "      <th>Interest Rate</th>\n",
              "      <th>Loan Term</th>\n",
              "      <th>Type of Loan</th>\n",
              "    </tr>\n",
              "  </thead>\n",
              "  <tbody>\n",
              "    <tr>\n",
              "      <th>0</th>\n",
              "      <td>60</td>\n",
              "      <td>Male</td>\n",
              "      <td>Married</td>\n",
              "      <td>Master</td>\n",
              "      <td>Employed</td>\n",
              "      <td>0.22</td>\n",
              "      <td>2685.0</td>\n",
              "      <td>2</td>\n",
              "      <td>4675000</td>\n",
              "      <td>2.65</td>\n",
              "      <td>48</td>\n",
              "      <td>Personal Loan</td>\n",
              "    </tr>\n",
              "    <tr>\n",
              "      <th>1</th>\n",
              "      <td>25</td>\n",
              "      <td>Male</td>\n",
              "      <td>Married</td>\n",
              "      <td>High School</td>\n",
              "      <td>Unemployed</td>\n",
              "      <td>0.20</td>\n",
              "      <td>2371.0</td>\n",
              "      <td>9</td>\n",
              "      <td>3619000</td>\n",
              "      <td>5.19</td>\n",
              "      <td>60</td>\n",
              "      <td>Auto Loan</td>\n",
              "    </tr>\n",
              "    <tr>\n",
              "      <th>2</th>\n",
              "      <td>30</td>\n",
              "      <td>Female</td>\n",
              "      <td>Single</td>\n",
              "      <td>Master</td>\n",
              "      <td>Employed</td>\n",
              "      <td>0.22</td>\n",
              "      <td>2771.0</td>\n",
              "      <td>6</td>\n",
              "      <td>957000</td>\n",
              "      <td>2.76</td>\n",
              "      <td>12</td>\n",
              "      <td>Auto Loan</td>\n",
              "    </tr>\n",
              "    <tr>\n",
              "      <th>3</th>\n",
              "      <td>58</td>\n",
              "      <td>Female</td>\n",
              "      <td>Married</td>\n",
              "      <td>PhD</td>\n",
              "      <td>Unemployed</td>\n",
              "      <td>0.12</td>\n",
              "      <td>1371.0</td>\n",
              "      <td>2</td>\n",
              "      <td>4731000</td>\n",
              "      <td>6.57</td>\n",
              "      <td>60</td>\n",
              "      <td>Auto Loan</td>\n",
              "    </tr>\n",
              "    <tr>\n",
              "      <th>4</th>\n",
              "      <td>32</td>\n",
              "      <td>Male</td>\n",
              "      <td>Married</td>\n",
              "      <td>Bachelor</td>\n",
              "      <td>Self-Employed</td>\n",
              "      <td>0.99</td>\n",
              "      <td>828.0</td>\n",
              "      <td>2</td>\n",
              "      <td>3289000</td>\n",
              "      <td>6.28</td>\n",
              "      <td>36</td>\n",
              "      <td>Personal Loan</td>\n",
              "    </tr>\n",
              "    <tr>\n",
              "      <th>...</th>\n",
              "      <td>...</td>\n",
              "      <td>...</td>\n",
              "      <td>...</td>\n",
              "      <td>...</td>\n",
              "      <td>...</td>\n",
              "      <td>...</td>\n",
              "      <td>...</td>\n",
              "      <td>...</td>\n",
              "      <td>...</td>\n",
              "      <td>...</td>\n",
              "      <td>...</td>\n",
              "      <td>...</td>\n",
              "    </tr>\n",
              "    <tr>\n",
              "      <th>995</th>\n",
              "      <td>59</td>\n",
              "      <td>Male</td>\n",
              "      <td>Divorced</td>\n",
              "      <td>High School</td>\n",
              "      <td>Employed</td>\n",
              "      <td>0.74</td>\n",
              "      <td>1285.0</td>\n",
              "      <td>8</td>\n",
              "      <td>3530000</td>\n",
              "      <td>12.99</td>\n",
              "      <td>48</td>\n",
              "      <td>Auto Loan</td>\n",
              "    </tr>\n",
              "    <tr>\n",
              "      <th>996</th>\n",
              "      <td>64</td>\n",
              "      <td>Male</td>\n",
              "      <td>Divorced</td>\n",
              "      <td>Bachelor</td>\n",
              "      <td>Unemployed</td>\n",
              "      <td>0.77</td>\n",
              "      <td>1857.0</td>\n",
              "      <td>2</td>\n",
              "      <td>1377000</td>\n",
              "      <td>18.02</td>\n",
              "      <td>60</td>\n",
              "      <td>Home Loan</td>\n",
              "    </tr>\n",
              "    <tr>\n",
              "      <th>997</th>\n",
              "      <td>63</td>\n",
              "      <td>Female</td>\n",
              "      <td>Single</td>\n",
              "      <td>Master</td>\n",
              "      <td>Self-Employed</td>\n",
              "      <td>0.18</td>\n",
              "      <td>2628.0</td>\n",
              "      <td>10</td>\n",
              "      <td>2443000</td>\n",
              "      <td>18.95</td>\n",
              "      <td>12</td>\n",
              "      <td>Personal Loan</td>\n",
              "    </tr>\n",
              "    <tr>\n",
              "      <th>998</th>\n",
              "      <td>51</td>\n",
              "      <td>Female</td>\n",
              "      <td>Married</td>\n",
              "      <td>PhD</td>\n",
              "      <td>Self-Employed</td>\n",
              "      <td>0.32</td>\n",
              "      <td>1142.0</td>\n",
              "      <td>3</td>\n",
              "      <td>1301000</td>\n",
              "      <td>1.80</td>\n",
              "      <td>24</td>\n",
              "      <td>Auto Loan</td>\n",
              "    </tr>\n",
              "    <tr>\n",
              "      <th>999</th>\n",
              "      <td>37</td>\n",
              "      <td>Female</td>\n",
              "      <td>Married</td>\n",
              "      <td>Master</td>\n",
              "      <td>Self-Employed</td>\n",
              "      <td>0.17</td>\n",
              "      <td>1028.0</td>\n",
              "      <td>5</td>\n",
              "      <td>4182000</td>\n",
              "      <td>9.34</td>\n",
              "      <td>24</td>\n",
              "      <td>Auto Loan</td>\n",
              "    </tr>\n",
              "  </tbody>\n",
              "</table>\n",
              "<p>1000 rows × 12 columns</p>\n",
              "</div>\n",
              "    <div class=\"colab-df-buttons\">\n",
              "\n",
              "  <div class=\"colab-df-container\">\n",
              "    <button class=\"colab-df-convert\" onclick=\"convertToInteractive('df-48327aba-678a-48ae-8ba2-16303bc84102')\"\n",
              "            title=\"Convert this dataframe to an interactive table.\"\n",
              "            style=\"display:none;\">\n",
              "\n",
              "  <svg xmlns=\"http://www.w3.org/2000/svg\" height=\"24px\" viewBox=\"0 -960 960 960\">\n",
              "    <path d=\"M120-120v-720h720v720H120Zm60-500h600v-160H180v160Zm220 220h160v-160H400v160Zm0 220h160v-160H400v160ZM180-400h160v-160H180v160Zm440 0h160v-160H620v160ZM180-180h160v-160H180v160Zm440 0h160v-160H620v160Z\"/>\n",
              "  </svg>\n",
              "    </button>\n",
              "\n",
              "  <style>\n",
              "    .colab-df-container {\n",
              "      display:flex;\n",
              "      gap: 12px;\n",
              "    }\n",
              "\n",
              "    .colab-df-convert {\n",
              "      background-color: #E8F0FE;\n",
              "      border: none;\n",
              "      border-radius: 50%;\n",
              "      cursor: pointer;\n",
              "      display: none;\n",
              "      fill: #1967D2;\n",
              "      height: 32px;\n",
              "      padding: 0 0 0 0;\n",
              "      width: 32px;\n",
              "    }\n",
              "\n",
              "    .colab-df-convert:hover {\n",
              "      background-color: #E2EBFA;\n",
              "      box-shadow: 0px 1px 2px rgba(60, 64, 67, 0.3), 0px 1px 3px 1px rgba(60, 64, 67, 0.15);\n",
              "      fill: #174EA6;\n",
              "    }\n",
              "\n",
              "    .colab-df-buttons div {\n",
              "      margin-bottom: 4px;\n",
              "    }\n",
              "\n",
              "    [theme=dark] .colab-df-convert {\n",
              "      background-color: #3B4455;\n",
              "      fill: #D2E3FC;\n",
              "    }\n",
              "\n",
              "    [theme=dark] .colab-df-convert:hover {\n",
              "      background-color: #434B5C;\n",
              "      box-shadow: 0px 1px 3px 1px rgba(0, 0, 0, 0.15);\n",
              "      filter: drop-shadow(0px 1px 2px rgba(0, 0, 0, 0.3));\n",
              "      fill: #FFFFFF;\n",
              "    }\n",
              "  </style>\n",
              "\n",
              "    <script>\n",
              "      const buttonEl =\n",
              "        document.querySelector('#df-48327aba-678a-48ae-8ba2-16303bc84102 button.colab-df-convert');\n",
              "      buttonEl.style.display =\n",
              "        google.colab.kernel.accessAllowed ? 'block' : 'none';\n",
              "\n",
              "      async function convertToInteractive(key) {\n",
              "        const element = document.querySelector('#df-48327aba-678a-48ae-8ba2-16303bc84102');\n",
              "        const dataTable =\n",
              "          await google.colab.kernel.invokeFunction('convertToInteractive',\n",
              "                                                    [key], {});\n",
              "        if (!dataTable) return;\n",
              "\n",
              "        const docLinkHtml = 'Like what you see? Visit the ' +\n",
              "          '<a target=\"_blank\" href=https://colab.research.google.com/notebooks/data_table.ipynb>data table notebook</a>'\n",
              "          + ' to learn more about interactive tables.';\n",
              "        element.innerHTML = '';\n",
              "        dataTable['output_type'] = 'display_data';\n",
              "        await google.colab.output.renderOutput(dataTable, element);\n",
              "        const docLink = document.createElement('div');\n",
              "        docLink.innerHTML = docLinkHtml;\n",
              "        element.appendChild(docLink);\n",
              "      }\n",
              "    </script>\n",
              "  </div>\n",
              "\n",
              "\n",
              "<div id=\"df-c49e1643-5f96-44c1-9ede-82c5e7d7e56e\">\n",
              "  <button class=\"colab-df-quickchart\" onclick=\"quickchart('df-c49e1643-5f96-44c1-9ede-82c5e7d7e56e')\"\n",
              "            title=\"Suggest charts.\"\n",
              "            style=\"display:none;\">\n",
              "\n",
              "<svg xmlns=\"http://www.w3.org/2000/svg\" height=\"24px\"viewBox=\"0 0 24 24\"\n",
              "     width=\"24px\">\n",
              "    <g>\n",
              "        <path d=\"M19 3H5c-1.1 0-2 .9-2 2v14c0 1.1.9 2 2 2h14c1.1 0 2-.9 2-2V5c0-1.1-.9-2-2-2zM9 17H7v-7h2v7zm4 0h-2V7h2v10zm4 0h-2v-4h2v4z\"/>\n",
              "    </g>\n",
              "</svg>\n",
              "  </button>\n",
              "\n",
              "<style>\n",
              "  .colab-df-quickchart {\n",
              "      --bg-color: #E8F0FE;\n",
              "      --fill-color: #1967D2;\n",
              "      --hover-bg-color: #E2EBFA;\n",
              "      --hover-fill-color: #174EA6;\n",
              "      --disabled-fill-color: #AAA;\n",
              "      --disabled-bg-color: #DDD;\n",
              "  }\n",
              "\n",
              "  [theme=dark] .colab-df-quickchart {\n",
              "      --bg-color: #3B4455;\n",
              "      --fill-color: #D2E3FC;\n",
              "      --hover-bg-color: #434B5C;\n",
              "      --hover-fill-color: #FFFFFF;\n",
              "      --disabled-bg-color: #3B4455;\n",
              "      --disabled-fill-color: #666;\n",
              "  }\n",
              "\n",
              "  .colab-df-quickchart {\n",
              "    background-color: var(--bg-color);\n",
              "    border: none;\n",
              "    border-radius: 50%;\n",
              "    cursor: pointer;\n",
              "    display: none;\n",
              "    fill: var(--fill-color);\n",
              "    height: 32px;\n",
              "    padding: 0;\n",
              "    width: 32px;\n",
              "  }\n",
              "\n",
              "  .colab-df-quickchart:hover {\n",
              "    background-color: var(--hover-bg-color);\n",
              "    box-shadow: 0 1px 2px rgba(60, 64, 67, 0.3), 0 1px 3px 1px rgba(60, 64, 67, 0.15);\n",
              "    fill: var(--button-hover-fill-color);\n",
              "  }\n",
              "\n",
              "  .colab-df-quickchart-complete:disabled,\n",
              "  .colab-df-quickchart-complete:disabled:hover {\n",
              "    background-color: var(--disabled-bg-color);\n",
              "    fill: var(--disabled-fill-color);\n",
              "    box-shadow: none;\n",
              "  }\n",
              "\n",
              "  .colab-df-spinner {\n",
              "    border: 2px solid var(--fill-color);\n",
              "    border-color: transparent;\n",
              "    border-bottom-color: var(--fill-color);\n",
              "    animation:\n",
              "      spin 1s steps(1) infinite;\n",
              "  }\n",
              "\n",
              "  @keyframes spin {\n",
              "    0% {\n",
              "      border-color: transparent;\n",
              "      border-bottom-color: var(--fill-color);\n",
              "      border-left-color: var(--fill-color);\n",
              "    }\n",
              "    20% {\n",
              "      border-color: transparent;\n",
              "      border-left-color: var(--fill-color);\n",
              "      border-top-color: var(--fill-color);\n",
              "    }\n",
              "    30% {\n",
              "      border-color: transparent;\n",
              "      border-left-color: var(--fill-color);\n",
              "      border-top-color: var(--fill-color);\n",
              "      border-right-color: var(--fill-color);\n",
              "    }\n",
              "    40% {\n",
              "      border-color: transparent;\n",
              "      border-right-color: var(--fill-color);\n",
              "      border-top-color: var(--fill-color);\n",
              "    }\n",
              "    60% {\n",
              "      border-color: transparent;\n",
              "      border-right-color: var(--fill-color);\n",
              "    }\n",
              "    80% {\n",
              "      border-color: transparent;\n",
              "      border-right-color: var(--fill-color);\n",
              "      border-bottom-color: var(--fill-color);\n",
              "    }\n",
              "    90% {\n",
              "      border-color: transparent;\n",
              "      border-bottom-color: var(--fill-color);\n",
              "    }\n",
              "  }\n",
              "</style>\n",
              "\n",
              "  <script>\n",
              "    async function quickchart(key) {\n",
              "      const quickchartButtonEl =\n",
              "        document.querySelector('#' + key + ' button');\n",
              "      quickchartButtonEl.disabled = true;  // To prevent multiple clicks.\n",
              "      quickchartButtonEl.classList.add('colab-df-spinner');\n",
              "      try {\n",
              "        const charts = await google.colab.kernel.invokeFunction(\n",
              "            'suggestCharts', [key], {});\n",
              "      } catch (error) {\n",
              "        console.error('Error during call to suggestCharts:', error);\n",
              "      }\n",
              "      quickchartButtonEl.classList.remove('colab-df-spinner');\n",
              "      quickchartButtonEl.classList.add('colab-df-quickchart-complete');\n",
              "    }\n",
              "    (() => {\n",
              "      let quickchartButtonEl =\n",
              "        document.querySelector('#df-c49e1643-5f96-44c1-9ede-82c5e7d7e56e button');\n",
              "      quickchartButtonEl.style.display =\n",
              "        google.colab.kernel.accessAllowed ? 'block' : 'none';\n",
              "    })();\n",
              "  </script>\n",
              "</div>\n",
              "    </div>\n",
              "  </div>\n"
            ]
          },
          "metadata": {},
          "execution_count": 6
        }
      ]
    },
    {
      "cell_type": "code",
      "source": [
        "print(data.info())"
      ],
      "metadata": {
        "colab": {
          "base_uri": "https://localhost:8080/"
        },
        "id": "EnwBphFuj69u",
        "outputId": "1b76c90e-21b5-4c47-c7bd-1ddc349c54e6"
      },
      "execution_count": 7,
      "outputs": [
        {
          "output_type": "stream",
          "name": "stdout",
          "text": [
            "<class 'pandas.core.frame.DataFrame'>\n",
            "RangeIndex: 1000 entries, 0 to 999\n",
            "Data columns (total 12 columns):\n",
            " #   Column                     Non-Null Count  Dtype  \n",
            "---  ------                     --------------  -----  \n",
            " 0   Age                        1000 non-null   int64  \n",
            " 1   Gender                     1000 non-null   object \n",
            " 2   Marital Status             1000 non-null   object \n",
            " 3   Education Level            1000 non-null   object \n",
            " 4   Employment Status          1000 non-null   object \n",
            " 5   Credit Utilization Ratio   1000 non-null   float64\n",
            " 6   Payment History            1000 non-null   float64\n",
            " 7   Number of Credit Accounts  1000 non-null   int64  \n",
            " 8   Loan Amount                1000 non-null   int64  \n",
            " 9   Interest Rate              1000 non-null   float64\n",
            " 10  Loan Term                  1000 non-null   int64  \n",
            " 11  Type of Loan               1000 non-null   object \n",
            "dtypes: float64(3), int64(4), object(5)\n",
            "memory usage: 93.9+ KB\n",
            "None\n"
          ]
        }
      ]
    },
    {
      "cell_type": "code",
      "source": [
        "print(data.describe())"
      ],
      "metadata": {
        "colab": {
          "base_uri": "https://localhost:8080/"
        },
        "id": "eAQDLrxsj6_r",
        "outputId": "fab3de53-7983-4673-8808-7d218d67399c"
      },
      "execution_count": 8,
      "outputs": [
        {
          "output_type": "stream",
          "name": "stdout",
          "text": [
            "               Age  Credit Utilization Ratio  Payment History  \\\n",
            "count  1000.000000               1000.000000      1000.000000   \n",
            "mean     42.702000                  0.509950      1452.814000   \n",
            "std      13.266771                  0.291057       827.934146   \n",
            "min      20.000000                  0.000000         0.000000   \n",
            "25%      31.000000                  0.250000       763.750000   \n",
            "50%      42.000000                  0.530000      1428.000000   \n",
            "75%      54.000000                  0.750000      2142.000000   \n",
            "max      65.000000                  1.000000      2857.000000   \n",
            "\n",
            "       Number of Credit Accounts   Loan Amount  Interest Rate    Loan Term  \n",
            "count                1000.000000  1.000000e+03    1000.000000  1000.000000  \n",
            "mean                    5.580000  2.471401e+06      10.686600    37.128000  \n",
            "std                     2.933634  1.387047e+06       5.479058    17.436274  \n",
            "min                     1.000000  1.080000e+05       1.010000    12.000000  \n",
            "25%                     3.000000  1.298000e+06       6.022500    24.000000  \n",
            "50%                     6.000000  2.437500e+06      10.705000    36.000000  \n",
            "75%                     8.000000  3.653250e+06      15.440000    48.000000  \n",
            "max                    10.000000  4.996000e+06      19.990000    60.000000  \n"
          ]
        }
      ]
    },
    {
      "cell_type": "code",
      "source": [
        "data.isnull().sum()"
      ],
      "metadata": {
        "colab": {
          "base_uri": "https://localhost:8080/"
        },
        "id": "bIQ-oGacpcGJ",
        "outputId": "f2f5ba3f-cc93-45bf-fc7e-b7d1e3028f7f"
      },
      "execution_count": 23,
      "outputs": [
        {
          "output_type": "execute_result",
          "data": {
            "text/plain": [
              "Age                             0\n",
              "Gender                          0\n",
              "Marital Status                  0\n",
              "Education Level              1000\n",
              "Employment Status            1000\n",
              "Credit Utilization Ratio        0\n",
              "Payment History                 0\n",
              "Number of Credit Accounts       0\n",
              "Loan Amount                     0\n",
              "Interest Rate                   0\n",
              "Loan Term                       0\n",
              "Type of Loan                    0\n",
              "Credit Score                 1000\n",
              "dtype: int64"
            ]
          },
          "metadata": {},
          "execution_count": 23
        }
      ]
    },
    {
      "cell_type": "code",
      "source": [
        "data.shape"
      ],
      "metadata": {
        "colab": {
          "base_uri": "https://localhost:8080/"
        },
        "id": "Q100wTr5pmQK",
        "outputId": "67ac1e2c-13e6-4393-9d47-ccfbf76f73d0"
      },
      "execution_count": 27,
      "outputs": [
        {
          "output_type": "execute_result",
          "data": {
            "text/plain": [
              "(1000, 13)"
            ]
          },
          "metadata": {},
          "execution_count": 27
        }
      ]
    },
    {
      "cell_type": "markdown",
      "source": [
        "Now let’s have a look at the distribution of the credit utilization ratio in the data:"
      ],
      "metadata": {
        "id": "gYj6TOuTkf8n"
      }
    },
    {
      "cell_type": "code",
      "source": [
        "credit_utilization_fig = px.box(data, y='Credit Utilization Ratio',\n",
        "                                title='Credit Utilization Ratio Distribution')\n",
        "credit_utilization_fig.show()"
      ],
      "metadata": {
        "colab": {
          "base_uri": "https://localhost:8080/",
          "height": 542
        },
        "id": "759SmVetj7EH",
        "outputId": "46a0e672-1b95-45b7-929f-c7474ed7cc1f"
      },
      "execution_count": 9,
      "outputs": [
        {
          "output_type": "display_data",
          "data": {
            "text/html": [
              "<html>\n",
              "<head><meta charset=\"utf-8\" /></head>\n",
              "<body>\n",
              "    <div>            <script src=\"https://cdnjs.cloudflare.com/ajax/libs/mathjax/2.7.5/MathJax.js?config=TeX-AMS-MML_SVG\"></script><script type=\"text/javascript\">if (window.MathJax && window.MathJax.Hub && window.MathJax.Hub.Config) {window.MathJax.Hub.Config({SVG: {font: \"STIX-Web\"}});}</script>                <script type=\"text/javascript\">window.PlotlyConfig = {MathJaxConfig: 'local'};</script>\n",
              "        <script charset=\"utf-8\" src=\"https://cdn.plot.ly/plotly-2.24.1.min.js\"></script>                <div id=\"9dcf1320-75e6-418c-b8c9-6c3151f70780\" class=\"plotly-graph-div\" style=\"height:525px; width:100%;\"></div>            <script type=\"text/javascript\">                                    window.PLOTLYENV=window.PLOTLYENV || {};                                    if (document.getElementById(\"9dcf1320-75e6-418c-b8c9-6c3151f70780\")) {                    Plotly.newPlot(                        \"9dcf1320-75e6-418c-b8c9-6c3151f70780\",                        [{\"alignmentgroup\":\"True\",\"hovertemplate\":\"Credit Utilization Ratio=%{y}\\u003cextra\\u003e\\u003c\\u002fextra\\u003e\",\"legendgroup\":\"\",\"marker\":{\"color\":\"#636efa\"},\"name\":\"\",\"notched\":false,\"offsetgroup\":\"\",\"orientation\":\"v\",\"showlegend\":false,\"x0\":\" \",\"xaxis\":\"x\",\"y\":[0.22,0.2,0.22,0.12,0.99,0.94,0.32,0.66,0.4,0.06,0.29,0.51,0.93,0.66,1.0,0.55,0.67,0.1,0.34,0.44,0.21,0.19,0.92,0.12,0.72,0.54,0.98,0.74,0.91,0.71,0.31,0.88,0.87,0.33,0.58,0.04,0.95,0.4,0.29,0.08,0.24,0.15,0.46,0.74,0.71,0.21,0.38,0.44,0.59,0.45,0.22,0.11,0.58,0.6,0.11,0.59,0.85,0.95,0.29,0.7,0.48,0.71,0.28,0.58,0.6,0.96,0.45,0.79,0.17,0.5,0.96,0.18,0.33,0.12,0.36,0.03,0.46,0.46,0.27,0.33,0.32,0.53,0.08,0.75,0.43,0.91,0.44,0.11,0.75,0.65,0.79,0.14,0.75,0.22,0.23,0.62,0.4,0.99,0.0,0.59,0.59,1.0,0.62,0.65,0.43,0.74,0.94,0.85,0.18,0.63,0.6,0.61,0.67,0.33,0.04,0.02,0.08,0.35,0.95,0.44,0.04,0.91,0.65,0.41,0.85,0.56,0.36,0.51,0.77,0.97,0.82,0.27,0.37,0.29,0.78,0.54,0.66,0.64,0.04,0.78,0.04,0.74,0.43,0.69,0.51,0.37,0.37,0.77,0.17,0.85,0.57,0.82,0.43,0.25,0.66,0.21,0.45,0.99,0.45,0.76,0.22,0.43,0.39,0.79,0.71,0.74,0.33,0.48,0.31,0.33,0.48,0.56,0.96,0.11,0.72,0.32,1.0,0.99,0.73,0.52,0.45,0.67,0.61,0.68,0.54,0.45,0.75,0.18,0.86,0.72,0.81,0.74,0.6,0.56,0.42,0.91,0.85,0.72,1.0,0.26,0.86,0.23,0.79,0.41,0.49,0.11,0.96,0.38,0.92,0.96,0.76,0.77,0.19,0.71,0.13,0.6,0.38,0.78,0.01,0.95,0.38,0.46,0.25,0.7,0.98,0.37,0.14,0.07,0.56,0.59,0.46,0.35,0.31,0.64,0.95,0.71,0.78,0.44,0.87,0.81,0.99,0.15,0.63,0.09,0.34,0.12,0.65,0.66,0.34,0.14,0.21,0.96,0.88,0.24,0.55,0.29,0.08,0.95,0.01,0.78,0.46,0.74,0.32,0.98,0.29,0.02,0.49,0.1,0.93,0.45,0.81,0.05,0.8,0.59,0.17,0.28,0.14,0.91,0.53,0.58,0.7,0.06,0.06,0.3,0.31,0.22,0.67,0.0,0.65,0.17,0.94,0.28,0.29,0.31,0.37,0.67,0.3,0.95,0.26,0.41,0.26,0.4,0.86,0.91,0.78,0.2,0.96,0.05,0.91,0.46,0.65,0.71,0.03,0.53,0.74,0.79,0.12,0.32,0.76,0.38,0.73,0.95,0.23,0.88,0.44,0.1,0.5,0.5,0.08,0.85,0.96,0.85,0.61,0.26,0.66,0.85,0.64,0.75,0.67,0.45,0.14,0.34,0.74,0.6,0.8,0.71,0.56,0.05,0.75,0.66,0.91,0.96,0.33,0.78,0.35,0.24,0.91,0.17,0.21,0.05,0.32,0.93,0.22,0.04,0.18,0.1,0.07,0.96,0.68,0.86,0.21,0.73,0.68,0.04,0.47,0.54,0.82,0.64,0.11,0.59,0.97,0.6,0.13,0.6,0.42,0.48,0.52,0.85,0.55,0.78,0.01,0.04,0.85,0.04,0.02,0.93,0.96,0.86,0.54,0.31,0.21,0.96,0.13,0.52,0.55,0.75,0.56,0.52,0.22,0.12,0.45,0.08,0.75,0.17,0.26,0.04,0.6,0.37,0.92,0.41,0.76,0.11,0.02,0.22,0.78,0.74,0.16,0.22,0.58,0.06,0.69,0.57,0.3,0.24,0.41,0.19,0.61,0.79,0.39,0.58,1.0,0.24,0.6,0.04,0.92,0.73,0.78,0.05,0.13,0.13,0.78,0.66,0.69,0.45,0.73,0.62,0.39,0.93,0.35,0.95,0.15,0.71,0.32,0.13,0.08,0.47,0.93,0.31,0.54,0.17,0.78,0.09,0.55,0.73,0.86,0.6,0.15,0.66,0.32,0.53,0.61,0.81,1.0,0.3,0.83,0.78,0.07,0.71,0.11,0.73,0.39,0.52,0.53,0.32,0.47,0.33,0.68,0.92,0.77,0.59,0.57,0.56,0.66,0.62,0.58,0.86,0.55,0.01,0.89,0.19,0.98,0.89,0.54,0.17,0.05,0.28,0.78,0.24,0.4,0.38,0.8,0.69,0.45,0.96,0.66,0.33,0.14,0.57,0.15,0.38,0.53,0.7,1.0,0.06,0.04,0.05,0.8,0.06,0.1,0.65,0.61,0.24,0.11,0.33,0.9,0.1,0.22,0.13,0.6,0.28,0.98,0.08,0.3,0.46,0.08,0.37,0.94,0.35,0.95,0.7,0.44,0.65,0.23,0.97,0.21,0.92,0.9,0.55,0.53,0.49,0.01,0.81,0.93,0.19,0.15,0.49,0.51,0.27,0.6,0.01,0.8,0.92,0.74,0.42,0.12,0.67,0.57,0.92,0.21,0.29,0.55,0.11,0.36,0.94,0.5,0.68,0.5,0.46,0.39,0.06,0.84,0.06,0.02,0.02,0.81,0.27,0.07,0.41,0.66,0.46,0.65,0.56,0.85,0.66,0.6,0.18,0.55,0.97,0.12,0.92,0.82,0.64,0.52,0.2,0.97,0.95,0.95,0.18,0.01,0.06,0.62,0.88,0.87,0.74,0.47,0.85,1.0,0.68,0.63,0.86,0.24,0.3,0.27,0.34,0.08,0.08,0.08,0.3,0.11,0.97,0.14,0.84,0.74,0.33,0.49,0.89,0.19,0.71,0.17,0.36,0.56,0.8,0.91,0.85,0.72,0.95,0.98,0.4,0.64,0.73,0.16,0.26,0.81,0.74,0.06,0.42,0.21,0.29,0.42,0.48,0.67,0.89,0.56,0.66,0.59,0.98,0.61,0.38,0.32,0.76,0.99,0.97,0.16,0.5,0.96,0.56,0.97,0.74,0.04,0.74,0.73,0.67,0.76,0.08,0.63,0.24,0.12,0.1,0.38,0.6,0.62,0.58,0.24,0.69,0.45,0.77,0.29,0.17,0.94,0.14,0.29,0.79,0.37,0.45,0.75,0.43,0.9,0.55,0.77,0.72,0.43,0.81,0.79,0.53,0.83,0.06,0.74,0.2,0.88,0.61,0.57,0.73,0.45,0.4,0.08,0.53,0.71,0.05,0.99,0.32,0.17,0.07,0.32,0.51,0.43,0.04,0.81,0.7,0.05,0.16,0.86,0.76,0.45,0.86,0.99,0.35,0.63,0.12,0.3,0.21,0.42,0.57,0.17,0.76,0.6,0.82,0.84,0.41,0.74,0.14,0.48,0.77,0.93,0.12,0.58,0.66,0.46,0.83,0.86,0.76,0.75,0.22,0.1,0.03,0.63,0.69,0.91,0.97,0.16,0.3,0.1,0.13,0.68,0.66,0.27,0.27,0.53,0.81,0.13,0.44,0.41,0.93,0.19,0.67,0.17,0.74,0.62,0.49,0.47,0.14,0.74,0.75,0.5,0.49,0.82,0.4,0.63,0.36,0.29,0.01,0.58,0.07,0.55,0.52,0.81,0.18,0.71,0.87,0.88,0.97,0.63,0.73,0.49,0.43,0.11,0.74,0.06,0.0,0.88,0.36,0.82,0.15,0.77,0.42,0.09,0.36,0.96,0.84,0.74,0.06,0.5,0.62,0.64,0.78,0.2,0.09,0.7,0.59,0.16,0.89,0.77,0.36,0.97,0.84,0.79,0.87,0.77,0.04,0.98,0.27,0.34,0.91,0.15,0.45,0.35,1.0,0.37,0.62,0.44,0.95,0.84,0.17,0.94,0.12,0.63,0.63,0.66,0.26,0.49,0.9,0.19,0.22,0.51,0.49,0.9,0.03,0.12,0.21,0.81,0.6,0.84,0.72,0.98,0.86,0.88,0.58,0.48,0.56,0.49,0.22,0.69,0.03,0.5,0.29,0.22,0.39,0.19,0.9,0.35,0.53,0.36,0.98,0.09,0.39,0.97,0.56,0.49,0.71,0.64,0.14,0.18,0.47,0.62,0.08,0.58,0.63,0.1,0.98,0.14,0.49,0.12,0.01,0.66,0.96,0.96,0.93,0.25,0.13,0.16,0.55,0.62,0.12,0.07,0.47,0.91,0.74,0.35,0.48,0.19,0.08,0.4,0.3,0.71,0.82,0.38,0.21,0.81,0.93,0.91,0.27,0.44,0.44,0.11,0.02,0.2,0.98,0.91,0.03,0.8,0.8,0.56,0.67,0.49,0.1,0.4,0.74,0.77,0.18,0.32,0.17],\"y0\":\" \",\"yaxis\":\"y\",\"type\":\"box\"}],                        {\"template\":{\"data\":{\"histogram2dcontour\":[{\"type\":\"histogram2dcontour\",\"colorbar\":{\"outlinewidth\":0,\"ticks\":\"\"},\"colorscale\":[[0.0,\"#0d0887\"],[0.1111111111111111,\"#46039f\"],[0.2222222222222222,\"#7201a8\"],[0.3333333333333333,\"#9c179e\"],[0.4444444444444444,\"#bd3786\"],[0.5555555555555556,\"#d8576b\"],[0.6666666666666666,\"#ed7953\"],[0.7777777777777778,\"#fb9f3a\"],[0.8888888888888888,\"#fdca26\"],[1.0,\"#f0f921\"]]}],\"choropleth\":[{\"type\":\"choropleth\",\"colorbar\":{\"outlinewidth\":0,\"ticks\":\"\"}}],\"histogram2d\":[{\"type\":\"histogram2d\",\"colorbar\":{\"outlinewidth\":0,\"ticks\":\"\"},\"colorscale\":[[0.0,\"#0d0887\"],[0.1111111111111111,\"#46039f\"],[0.2222222222222222,\"#7201a8\"],[0.3333333333333333,\"#9c179e\"],[0.4444444444444444,\"#bd3786\"],[0.5555555555555556,\"#d8576b\"],[0.6666666666666666,\"#ed7953\"],[0.7777777777777778,\"#fb9f3a\"],[0.8888888888888888,\"#fdca26\"],[1.0,\"#f0f921\"]]}],\"heatmap\":[{\"type\":\"heatmap\",\"colorbar\":{\"outlinewidth\":0,\"ticks\":\"\"},\"colorscale\":[[0.0,\"#0d0887\"],[0.1111111111111111,\"#46039f\"],[0.2222222222222222,\"#7201a8\"],[0.3333333333333333,\"#9c179e\"],[0.4444444444444444,\"#bd3786\"],[0.5555555555555556,\"#d8576b\"],[0.6666666666666666,\"#ed7953\"],[0.7777777777777778,\"#fb9f3a\"],[0.8888888888888888,\"#fdca26\"],[1.0,\"#f0f921\"]]}],\"heatmapgl\":[{\"type\":\"heatmapgl\",\"colorbar\":{\"outlinewidth\":0,\"ticks\":\"\"},\"colorscale\":[[0.0,\"#0d0887\"],[0.1111111111111111,\"#46039f\"],[0.2222222222222222,\"#7201a8\"],[0.3333333333333333,\"#9c179e\"],[0.4444444444444444,\"#bd3786\"],[0.5555555555555556,\"#d8576b\"],[0.6666666666666666,\"#ed7953\"],[0.7777777777777778,\"#fb9f3a\"],[0.8888888888888888,\"#fdca26\"],[1.0,\"#f0f921\"]]}],\"contourcarpet\":[{\"type\":\"contourcarpet\",\"colorbar\":{\"outlinewidth\":0,\"ticks\":\"\"}}],\"contour\":[{\"type\":\"contour\",\"colorbar\":{\"outlinewidth\":0,\"ticks\":\"\"},\"colorscale\":[[0.0,\"#0d0887\"],[0.1111111111111111,\"#46039f\"],[0.2222222222222222,\"#7201a8\"],[0.3333333333333333,\"#9c179e\"],[0.4444444444444444,\"#bd3786\"],[0.5555555555555556,\"#d8576b\"],[0.6666666666666666,\"#ed7953\"],[0.7777777777777778,\"#fb9f3a\"],[0.8888888888888888,\"#fdca26\"],[1.0,\"#f0f921\"]]}],\"surface\":[{\"type\":\"surface\",\"colorbar\":{\"outlinewidth\":0,\"ticks\":\"\"},\"colorscale\":[[0.0,\"#0d0887\"],[0.1111111111111111,\"#46039f\"],[0.2222222222222222,\"#7201a8\"],[0.3333333333333333,\"#9c179e\"],[0.4444444444444444,\"#bd3786\"],[0.5555555555555556,\"#d8576b\"],[0.6666666666666666,\"#ed7953\"],[0.7777777777777778,\"#fb9f3a\"],[0.8888888888888888,\"#fdca26\"],[1.0,\"#f0f921\"]]}],\"mesh3d\":[{\"type\":\"mesh3d\",\"colorbar\":{\"outlinewidth\":0,\"ticks\":\"\"}}],\"scatter\":[{\"fillpattern\":{\"fillmode\":\"overlay\",\"size\":10,\"solidity\":0.2},\"type\":\"scatter\"}],\"parcoords\":[{\"type\":\"parcoords\",\"line\":{\"colorbar\":{\"outlinewidth\":0,\"ticks\":\"\"}}}],\"scatterpolargl\":[{\"type\":\"scatterpolargl\",\"marker\":{\"colorbar\":{\"outlinewidth\":0,\"ticks\":\"\"}}}],\"bar\":[{\"error_x\":{\"color\":\"#2a3f5f\"},\"error_y\":{\"color\":\"#2a3f5f\"},\"marker\":{\"line\":{\"color\":\"white\",\"width\":0.5},\"pattern\":{\"fillmode\":\"overlay\",\"size\":10,\"solidity\":0.2}},\"type\":\"bar\"}],\"scattergeo\":[{\"type\":\"scattergeo\",\"marker\":{\"colorbar\":{\"outlinewidth\":0,\"ticks\":\"\"}}}],\"scatterpolar\":[{\"type\":\"scatterpolar\",\"marker\":{\"colorbar\":{\"outlinewidth\":0,\"ticks\":\"\"}}}],\"histogram\":[{\"marker\":{\"pattern\":{\"fillmode\":\"overlay\",\"size\":10,\"solidity\":0.2}},\"type\":\"histogram\"}],\"scattergl\":[{\"type\":\"scattergl\",\"marker\":{\"colorbar\":{\"outlinewidth\":0,\"ticks\":\"\"}}}],\"scatter3d\":[{\"type\":\"scatter3d\",\"line\":{\"colorbar\":{\"outlinewidth\":0,\"ticks\":\"\"}},\"marker\":{\"colorbar\":{\"outlinewidth\":0,\"ticks\":\"\"}}}],\"scattermapbox\":[{\"type\":\"scattermapbox\",\"marker\":{\"colorbar\":{\"outlinewidth\":0,\"ticks\":\"\"}}}],\"scatterternary\":[{\"type\":\"scatterternary\",\"marker\":{\"colorbar\":{\"outlinewidth\":0,\"ticks\":\"\"}}}],\"scattercarpet\":[{\"type\":\"scattercarpet\",\"marker\":{\"colorbar\":{\"outlinewidth\":0,\"ticks\":\"\"}}}],\"carpet\":[{\"aaxis\":{\"endlinecolor\":\"#2a3f5f\",\"gridcolor\":\"#C8D4E3\",\"linecolor\":\"#C8D4E3\",\"minorgridcolor\":\"#C8D4E3\",\"startlinecolor\":\"#2a3f5f\"},\"baxis\":{\"endlinecolor\":\"#2a3f5f\",\"gridcolor\":\"#C8D4E3\",\"linecolor\":\"#C8D4E3\",\"minorgridcolor\":\"#C8D4E3\",\"startlinecolor\":\"#2a3f5f\"},\"type\":\"carpet\"}],\"table\":[{\"cells\":{\"fill\":{\"color\":\"#EBF0F8\"},\"line\":{\"color\":\"white\"}},\"header\":{\"fill\":{\"color\":\"#C8D4E3\"},\"line\":{\"color\":\"white\"}},\"type\":\"table\"}],\"barpolar\":[{\"marker\":{\"line\":{\"color\":\"white\",\"width\":0.5},\"pattern\":{\"fillmode\":\"overlay\",\"size\":10,\"solidity\":0.2}},\"type\":\"barpolar\"}],\"pie\":[{\"automargin\":true,\"type\":\"pie\"}]},\"layout\":{\"autotypenumbers\":\"strict\",\"colorway\":[\"#636efa\",\"#EF553B\",\"#00cc96\",\"#ab63fa\",\"#FFA15A\",\"#19d3f3\",\"#FF6692\",\"#B6E880\",\"#FF97FF\",\"#FECB52\"],\"font\":{\"color\":\"#2a3f5f\"},\"hovermode\":\"closest\",\"hoverlabel\":{\"align\":\"left\"},\"paper_bgcolor\":\"white\",\"plot_bgcolor\":\"white\",\"polar\":{\"bgcolor\":\"white\",\"angularaxis\":{\"gridcolor\":\"#EBF0F8\",\"linecolor\":\"#EBF0F8\",\"ticks\":\"\"},\"radialaxis\":{\"gridcolor\":\"#EBF0F8\",\"linecolor\":\"#EBF0F8\",\"ticks\":\"\"}},\"ternary\":{\"bgcolor\":\"white\",\"aaxis\":{\"gridcolor\":\"#DFE8F3\",\"linecolor\":\"#A2B1C6\",\"ticks\":\"\"},\"baxis\":{\"gridcolor\":\"#DFE8F3\",\"linecolor\":\"#A2B1C6\",\"ticks\":\"\"},\"caxis\":{\"gridcolor\":\"#DFE8F3\",\"linecolor\":\"#A2B1C6\",\"ticks\":\"\"}},\"coloraxis\":{\"colorbar\":{\"outlinewidth\":0,\"ticks\":\"\"}},\"colorscale\":{\"sequential\":[[0.0,\"#0d0887\"],[0.1111111111111111,\"#46039f\"],[0.2222222222222222,\"#7201a8\"],[0.3333333333333333,\"#9c179e\"],[0.4444444444444444,\"#bd3786\"],[0.5555555555555556,\"#d8576b\"],[0.6666666666666666,\"#ed7953\"],[0.7777777777777778,\"#fb9f3a\"],[0.8888888888888888,\"#fdca26\"],[1.0,\"#f0f921\"]],\"sequentialminus\":[[0.0,\"#0d0887\"],[0.1111111111111111,\"#46039f\"],[0.2222222222222222,\"#7201a8\"],[0.3333333333333333,\"#9c179e\"],[0.4444444444444444,\"#bd3786\"],[0.5555555555555556,\"#d8576b\"],[0.6666666666666666,\"#ed7953\"],[0.7777777777777778,\"#fb9f3a\"],[0.8888888888888888,\"#fdca26\"],[1.0,\"#f0f921\"]],\"diverging\":[[0,\"#8e0152\"],[0.1,\"#c51b7d\"],[0.2,\"#de77ae\"],[0.3,\"#f1b6da\"],[0.4,\"#fde0ef\"],[0.5,\"#f7f7f7\"],[0.6,\"#e6f5d0\"],[0.7,\"#b8e186\"],[0.8,\"#7fbc41\"],[0.9,\"#4d9221\"],[1,\"#276419\"]]},\"xaxis\":{\"gridcolor\":\"#EBF0F8\",\"linecolor\":\"#EBF0F8\",\"ticks\":\"\",\"title\":{\"standoff\":15},\"zerolinecolor\":\"#EBF0F8\",\"automargin\":true,\"zerolinewidth\":2},\"yaxis\":{\"gridcolor\":\"#EBF0F8\",\"linecolor\":\"#EBF0F8\",\"ticks\":\"\",\"title\":{\"standoff\":15},\"zerolinecolor\":\"#EBF0F8\",\"automargin\":true,\"zerolinewidth\":2},\"scene\":{\"xaxis\":{\"backgroundcolor\":\"white\",\"gridcolor\":\"#DFE8F3\",\"linecolor\":\"#EBF0F8\",\"showbackground\":true,\"ticks\":\"\",\"zerolinecolor\":\"#EBF0F8\",\"gridwidth\":2},\"yaxis\":{\"backgroundcolor\":\"white\",\"gridcolor\":\"#DFE8F3\",\"linecolor\":\"#EBF0F8\",\"showbackground\":true,\"ticks\":\"\",\"zerolinecolor\":\"#EBF0F8\",\"gridwidth\":2},\"zaxis\":{\"backgroundcolor\":\"white\",\"gridcolor\":\"#DFE8F3\",\"linecolor\":\"#EBF0F8\",\"showbackground\":true,\"ticks\":\"\",\"zerolinecolor\":\"#EBF0F8\",\"gridwidth\":2}},\"shapedefaults\":{\"line\":{\"color\":\"#2a3f5f\"}},\"annotationdefaults\":{\"arrowcolor\":\"#2a3f5f\",\"arrowhead\":0,\"arrowwidth\":1},\"geo\":{\"bgcolor\":\"white\",\"landcolor\":\"white\",\"subunitcolor\":\"#C8D4E3\",\"showland\":true,\"showlakes\":true,\"lakecolor\":\"white\"},\"title\":{\"x\":0.05},\"mapbox\":{\"style\":\"light\"}}},\"xaxis\":{\"anchor\":\"y\",\"domain\":[0.0,1.0]},\"yaxis\":{\"anchor\":\"x\",\"domain\":[0.0,1.0],\"title\":{\"text\":\"Credit Utilization Ratio\"}},\"legend\":{\"tracegroupgap\":0},\"title\":{\"text\":\"Credit Utilization Ratio Distribution\"},\"boxmode\":\"group\"},                        {\"responsive\": true}                    ).then(function(){\n",
              "                            \n",
              "var gd = document.getElementById('9dcf1320-75e6-418c-b8c9-6c3151f70780');\n",
              "var x = new MutationObserver(function (mutations, observer) {{\n",
              "        var display = window.getComputedStyle(gd).display;\n",
              "        if (!display || display === 'none') {{\n",
              "            console.log([gd, 'removed!']);\n",
              "            Plotly.purge(gd);\n",
              "            observer.disconnect();\n",
              "        }}\n",
              "}});\n",
              "\n",
              "// Listen for the removal of the full notebook cells\n",
              "var notebookContainer = gd.closest('#notebook-container');\n",
              "if (notebookContainer) {{\n",
              "    x.observe(notebookContainer, {childList: true});\n",
              "}}\n",
              "\n",
              "// Listen for the clearing of the current output cell\n",
              "var outputEl = gd.closest('.output');\n",
              "if (outputEl) {{\n",
              "    x.observe(outputEl, {childList: true});\n",
              "}}\n",
              "\n",
              "                        })                };                            </script>        </div>\n",
              "</body>\n",
              "</html>"
            ]
          },
          "metadata": {}
        }
      ]
    },
    {
      "cell_type": "markdown",
      "source": [
        "Now let’s have a look at the distribution of the loan amount in the data:\n",
        "\n"
      ],
      "metadata": {
        "id": "mvsQb_YEkuDg"
      }
    },
    {
      "cell_type": "markdown",
      "source": [],
      "metadata": {
        "id": "ryyHlXajkpuF"
      }
    },
    {
      "cell_type": "code",
      "source": [
        "loan_amount_fig = px.histogram(data, x='Loan Amount',\n",
        "                               nbins=20,\n",
        "                               title='Loan Amount Distribution')\n",
        "loan_amount_fig.show()"
      ],
      "metadata": {
        "colab": {
          "base_uri": "https://localhost:8080/",
          "height": 542
        },
        "id": "qUtgGHyKj7GJ",
        "outputId": "8bfc558b-c237-4de8-e189-4d14ae13ed92"
      },
      "execution_count": 10,
      "outputs": [
        {
          "output_type": "display_data",
          "data": {
            "text/html": [
              "<html>\n",
              "<head><meta charset=\"utf-8\" /></head>\n",
              "<body>\n",
              "    <div>            <script src=\"https://cdnjs.cloudflare.com/ajax/libs/mathjax/2.7.5/MathJax.js?config=TeX-AMS-MML_SVG\"></script><script type=\"text/javascript\">if (window.MathJax && window.MathJax.Hub && window.MathJax.Hub.Config) {window.MathJax.Hub.Config({SVG: {font: \"STIX-Web\"}});}</script>                <script type=\"text/javascript\">window.PlotlyConfig = {MathJaxConfig: 'local'};</script>\n",
              "        <script charset=\"utf-8\" src=\"https://cdn.plot.ly/plotly-2.24.1.min.js\"></script>                <div id=\"0097ba2d-91ec-449d-b2fd-5ae71d945874\" class=\"plotly-graph-div\" style=\"height:525px; width:100%;\"></div>            <script type=\"text/javascript\">                                    window.PLOTLYENV=window.PLOTLYENV || {};                                    if (document.getElementById(\"0097ba2d-91ec-449d-b2fd-5ae71d945874\")) {                    Plotly.newPlot(                        \"0097ba2d-91ec-449d-b2fd-5ae71d945874\",                        [{\"alignmentgroup\":\"True\",\"bingroup\":\"x\",\"hovertemplate\":\"Loan Amount=%{x}\\u003cbr\\u003ecount=%{y}\\u003cextra\\u003e\\u003c\\u002fextra\\u003e\",\"legendgroup\":\"\",\"marker\":{\"color\":\"#636efa\",\"pattern\":{\"shape\":\"\"}},\"name\":\"\",\"nbinsx\":20,\"offsetgroup\":\"\",\"orientation\":\"v\",\"showlegend\":false,\"x\":[4675000,3619000,957000,4731000,3289000,1536000,2021000,1298000,4374000,4026000,127000,3237000,586000,2323000,3775000,160000,1210000,3653000,1707000,524000,1481000,4959000,577000,4956000,3420000,1211000,166000,2464000,3653000,1038000,1862000,2887000,1774000,3046000,1009000,4461000,2733000,1168000,2803000,2912000,711000,994000,4789000,2274000,2917000,2876000,2605000,2920000,804000,2434000,360000,2250000,3248000,445000,1383000,827000,1879000,3509000,2669000,2209000,4501000,482000,2958000,1373000,4484000,1870000,2543000,1759000,4875000,775000,274000,4225000,2518000,4417000,3808000,2107000,4281000,1699000,2604000,3264000,3339000,1309000,3288000,943000,3557000,3968000,2609000,3111000,3055000,380000,4309000,4775000,3296000,2635000,3360000,3208000,3914000,1821000,4632000,2326000,1958000,1006000,2828000,1904000,3240000,603000,2513000,3183000,2951000,4550000,1420000,1908000,3416000,3713000,753000,3960000,1959000,2082000,3992000,2640000,744000,2797000,3772000,539000,2896000,1172000,2967000,417000,467000,1728000,2197000,3770000,3245000,4035000,1122000,4924000,3125000,236000,1569000,2562000,2500000,1667000,2564000,455000,361000,372000,2194000,1900000,836000,3132000,1189000,2759000,4446000,2402000,2932000,354000,1426000,1197000,525000,4016000,524000,3483000,2446000,3167000,3933000,2922000,4996000,3289000,1810000,4508000,4782000,2514000,3811000,2107000,143000,850000,1663000,4243000,1662000,900000,2633000,1440000,4111000,4508000,4465000,3932000,480000,3241000,4607000,3282000,231000,2066000,2087000,3684000,3258000,3594000,1698000,4121000,1816000,4009000,236000,4288000,4685000,670000,4728000,1349000,2140000,179000,4855000,3441000,4301000,2838000,819000,3368000,3865000,204000,2626000,2169000,3287000,2736000,3162000,3778000,3262000,813000,2882000,4298000,3920000,289000,3498000,1902000,4527000,1547000,1286000,4755000,1737000,1503000,4711000,959000,1861000,3043000,1237000,3394000,3479000,631000,4849000,3930000,3219000,109000,1209000,1298000,3554000,2179000,4374000,696000,712000,3585000,4600000,2151000,1474000,346000,4291000,203000,2375000,4001000,2135000,180000,2447000,728000,2768000,1113000,438000,1559000,200000,641000,3413000,2162000,2190000,3358000,2053000,1557000,1292000,267000,1288000,3765000,1168000,4262000,3847000,3620000,1464000,729000,3742000,516000,4129000,4203000,2309000,2009000,4312000,1717000,830000,4988000,4898000,513000,2012000,4433000,343000,4337000,4725000,1957000,171000,2635000,2604000,1680000,2276000,3107000,1636000,2286000,4545000,778000,1429000,1773000,2718000,4497000,1872000,508000,2220000,1251000,2306000,2873000,2247000,3674000,3226000,1048000,342000,4502000,3000000,728000,761000,3484000,555000,118000,997000,490000,4151000,3327000,4397000,1213000,3602000,2340000,3897000,3594000,4685000,1101000,435000,1945000,2877000,2145000,4414000,4573000,705000,691000,4587000,2628000,4678000,3406000,1730000,4187000,4176000,2727000,3983000,1748000,2286000,3998000,1278000,2044000,435000,3275000,4144000,1668000,4118000,429000,2478000,4385000,4485000,4322000,3698000,2476000,3246000,3167000,4946000,1899000,4057000,4471000,1734000,1421000,856000,2290000,2198000,2263000,2183000,2357000,3087000,2746000,4112000,199000,4054000,2446000,1323000,4182000,908000,1769000,2504000,2730000,3573000,635000,3370000,4094000,3749000,2647000,2613000,3411000,2488000,3898000,2358000,4281000,4044000,3966000,4710000,3742000,1400000,4599000,2203000,2815000,3180000,4621000,907000,3360000,1851000,2330000,2187000,3683000,2744000,3246000,2632000,1261000,2824000,758000,2657000,3838000,4894000,4792000,852000,1520000,1043000,1853000,3259000,170000,936000,2175000,2081000,2967000,2862000,3708000,2773000,2339000,1225000,1998000,4210000,4598000,4778000,558000,1235000,1136000,2912000,1616000,4239000,2433000,2604000,4901000,3685000,1854000,4507000,2537000,2900000,151000,4080000,4471000,361000,2377000,1795000,2846000,134000,289000,1087000,4916000,989000,759000,4047000,3902000,1169000,2144000,2081000,2684000,1265000,1825000,3491000,3721000,4084000,1308000,3671000,4948000,3192000,4063000,3909000,2651000,329000,1036000,1617000,1869000,4567000,444000,3381000,4694000,2213000,1190000,2418000,2320000,1932000,257000,4920000,1117000,3956000,4181000,3361000,3502000,260000,3927000,3472000,3583000,3255000,4093000,1610000,903000,4273000,463000,4963000,1777000,1594000,600000,1526000,2169000,4330000,3511000,4885000,693000,4418000,662000,1991000,4518000,3941000,1813000,2545000,4547000,497000,1453000,2759000,1320000,1334000,3469000,1742000,4391000,2684000,1271000,842000,4746000,1142000,3135000,2277000,509000,2806000,3229000,4509000,2714000,1180000,752000,656000,1321000,217000,3174000,1047000,790000,1684000,813000,1780000,3493000,349000,908000,4634000,4770000,4872000,3269000,326000,2068000,3966000,4884000,1498000,3472000,3683000,4423000,2348000,2619000,2081000,410000,267000,1279000,2862000,3526000,2430000,559000,3359000,3508000,4347000,1242000,3542000,1626000,1516000,4511000,2516000,2534000,3435000,4050000,3211000,2762000,3708000,4761000,3761000,3033000,4888000,3407000,149000,2811000,848000,1201000,857000,1401000,1347000,1003000,1056000,3874000,149000,2640000,233000,822000,4055000,3587000,4193000,1081000,2047000,4062000,4229000,1430000,2955000,988000,3804000,155000,2159000,350000,616000,2653000,3809000,4466000,2270000,1139000,4574000,4432000,1902000,3597000,1416000,1088000,1908000,3895000,849000,843000,4645000,259000,2952000,2494000,328000,1799000,649000,2655000,4609000,4145000,687000,2292000,1222000,3395000,3103000,3102000,1854000,4841000,294000,2810000,494000,1993000,4126000,2898000,3266000,538000,950000,1724000,1255000,1337000,3641000,2878000,1941000,1822000,3119000,1598000,2115000,1708000,2173000,1505000,4251000,1934000,4452000,2759000,4402000,2862000,3487000,2061000,1858000,1992000,2870000,1011000,325000,1541000,1190000,2411000,4933000,2190000,2111000,3550000,4345000,417000,3772000,751000,1913000,3266000,630000,1837000,201000,2629000,1215000,4323000,766000,3822000,2021000,3300000,1153000,3657000,3116000,2619000,4134000,4223000,426000,3189000,1341000,3436000,2684000,2685000,1531000,1786000,3269000,2332000,4176000,3275000,1131000,2803000,3690000,4333000,2141000,4096000,642000,848000,619000,994000,1324000,3260000,2609000,4528000,2651000,177000,540000,4199000,197000,1619000,3500000,1609000,394000,4580000,408000,724000,4595000,1476000,4700000,1964000,2466000,4728000,2343000,4313000,767000,4367000,3665000,1988000,2195000,1924000,3069000,4414000,3158000,149000,1769000,4310000,537000,2178000,965000,1326000,2920000,2172000,945000,2878000,1195000,2976000,3014000,1500000,4407000,1927000,1535000,1861000,3525000,231000,3809000,1344000,2466000,941000,1209000,1797000,4660000,2001000,1522000,1368000,2374000,665000,4246000,4578000,1805000,2572000,3266000,1332000,2612000,1556000,3654000,1641000,559000,2109000,2358000,3092000,3517000,1452000,4490000,2106000,831000,1603000,3149000,800000,167000,3027000,2858000,1321000,1874000,3887000,1480000,183000,4290000,406000,221000,3051000,1464000,971000,2532000,3564000,135000,2129000,3482000,2283000,333000,1665000,1306000,749000,1864000,364000,293000,2345000,2198000,2379000,1503000,3702000,2859000,4806000,517000,2083000,4575000,3001000,3237000,1999000,503000,2779000,2800000,754000,4526000,3895000,1336000,3897000,546000,2415000,4925000,4254000,4099000,4081000,108000,888000,2626000,3096000,2398000,2695000,1024000,4184000,3055000,3724000,923000,2197000,906000,332000,549000,2897000,1820000,4168000,4074000,2283000,1533000,3382000,4970000,4300000,2946000,4932000,3487000,2042000,3804000,4768000,822000,1654000,663000,4634000,4443000,371000,4240000,4116000,2011000,1151000,2098000,1615000,744000,2555000,2447000,2072000,2441000,4567000,329000,3988000,818000,204000,3109000,2277000,4351000,475000,3589000,4048000,1874000,3297000,4499000,3924000,4161000,2283000,1609000,301000,2561000,3530000,1377000,2443000,1301000,4182000],\"xaxis\":\"x\",\"yaxis\":\"y\",\"type\":\"histogram\"}],                        {\"template\":{\"data\":{\"histogram2dcontour\":[{\"type\":\"histogram2dcontour\",\"colorbar\":{\"outlinewidth\":0,\"ticks\":\"\"},\"colorscale\":[[0.0,\"#0d0887\"],[0.1111111111111111,\"#46039f\"],[0.2222222222222222,\"#7201a8\"],[0.3333333333333333,\"#9c179e\"],[0.4444444444444444,\"#bd3786\"],[0.5555555555555556,\"#d8576b\"],[0.6666666666666666,\"#ed7953\"],[0.7777777777777778,\"#fb9f3a\"],[0.8888888888888888,\"#fdca26\"],[1.0,\"#f0f921\"]]}],\"choropleth\":[{\"type\":\"choropleth\",\"colorbar\":{\"outlinewidth\":0,\"ticks\":\"\"}}],\"histogram2d\":[{\"type\":\"histogram2d\",\"colorbar\":{\"outlinewidth\":0,\"ticks\":\"\"},\"colorscale\":[[0.0,\"#0d0887\"],[0.1111111111111111,\"#46039f\"],[0.2222222222222222,\"#7201a8\"],[0.3333333333333333,\"#9c179e\"],[0.4444444444444444,\"#bd3786\"],[0.5555555555555556,\"#d8576b\"],[0.6666666666666666,\"#ed7953\"],[0.7777777777777778,\"#fb9f3a\"],[0.8888888888888888,\"#fdca26\"],[1.0,\"#f0f921\"]]}],\"heatmap\":[{\"type\":\"heatmap\",\"colorbar\":{\"outlinewidth\":0,\"ticks\":\"\"},\"colorscale\":[[0.0,\"#0d0887\"],[0.1111111111111111,\"#46039f\"],[0.2222222222222222,\"#7201a8\"],[0.3333333333333333,\"#9c179e\"],[0.4444444444444444,\"#bd3786\"],[0.5555555555555556,\"#d8576b\"],[0.6666666666666666,\"#ed7953\"],[0.7777777777777778,\"#fb9f3a\"],[0.8888888888888888,\"#fdca26\"],[1.0,\"#f0f921\"]]}],\"heatmapgl\":[{\"type\":\"heatmapgl\",\"colorbar\":{\"outlinewidth\":0,\"ticks\":\"\"},\"colorscale\":[[0.0,\"#0d0887\"],[0.1111111111111111,\"#46039f\"],[0.2222222222222222,\"#7201a8\"],[0.3333333333333333,\"#9c179e\"],[0.4444444444444444,\"#bd3786\"],[0.5555555555555556,\"#d8576b\"],[0.6666666666666666,\"#ed7953\"],[0.7777777777777778,\"#fb9f3a\"],[0.8888888888888888,\"#fdca26\"],[1.0,\"#f0f921\"]]}],\"contourcarpet\":[{\"type\":\"contourcarpet\",\"colorbar\":{\"outlinewidth\":0,\"ticks\":\"\"}}],\"contour\":[{\"type\":\"contour\",\"colorbar\":{\"outlinewidth\":0,\"ticks\":\"\"},\"colorscale\":[[0.0,\"#0d0887\"],[0.1111111111111111,\"#46039f\"],[0.2222222222222222,\"#7201a8\"],[0.3333333333333333,\"#9c179e\"],[0.4444444444444444,\"#bd3786\"],[0.5555555555555556,\"#d8576b\"],[0.6666666666666666,\"#ed7953\"],[0.7777777777777778,\"#fb9f3a\"],[0.8888888888888888,\"#fdca26\"],[1.0,\"#f0f921\"]]}],\"surface\":[{\"type\":\"surface\",\"colorbar\":{\"outlinewidth\":0,\"ticks\":\"\"},\"colorscale\":[[0.0,\"#0d0887\"],[0.1111111111111111,\"#46039f\"],[0.2222222222222222,\"#7201a8\"],[0.3333333333333333,\"#9c179e\"],[0.4444444444444444,\"#bd3786\"],[0.5555555555555556,\"#d8576b\"],[0.6666666666666666,\"#ed7953\"],[0.7777777777777778,\"#fb9f3a\"],[0.8888888888888888,\"#fdca26\"],[1.0,\"#f0f921\"]]}],\"mesh3d\":[{\"type\":\"mesh3d\",\"colorbar\":{\"outlinewidth\":0,\"ticks\":\"\"}}],\"scatter\":[{\"fillpattern\":{\"fillmode\":\"overlay\",\"size\":10,\"solidity\":0.2},\"type\":\"scatter\"}],\"parcoords\":[{\"type\":\"parcoords\",\"line\":{\"colorbar\":{\"outlinewidth\":0,\"ticks\":\"\"}}}],\"scatterpolargl\":[{\"type\":\"scatterpolargl\",\"marker\":{\"colorbar\":{\"outlinewidth\":0,\"ticks\":\"\"}}}],\"bar\":[{\"error_x\":{\"color\":\"#2a3f5f\"},\"error_y\":{\"color\":\"#2a3f5f\"},\"marker\":{\"line\":{\"color\":\"white\",\"width\":0.5},\"pattern\":{\"fillmode\":\"overlay\",\"size\":10,\"solidity\":0.2}},\"type\":\"bar\"}],\"scattergeo\":[{\"type\":\"scattergeo\",\"marker\":{\"colorbar\":{\"outlinewidth\":0,\"ticks\":\"\"}}}],\"scatterpolar\":[{\"type\":\"scatterpolar\",\"marker\":{\"colorbar\":{\"outlinewidth\":0,\"ticks\":\"\"}}}],\"histogram\":[{\"marker\":{\"pattern\":{\"fillmode\":\"overlay\",\"size\":10,\"solidity\":0.2}},\"type\":\"histogram\"}],\"scattergl\":[{\"type\":\"scattergl\",\"marker\":{\"colorbar\":{\"outlinewidth\":0,\"ticks\":\"\"}}}],\"scatter3d\":[{\"type\":\"scatter3d\",\"line\":{\"colorbar\":{\"outlinewidth\":0,\"ticks\":\"\"}},\"marker\":{\"colorbar\":{\"outlinewidth\":0,\"ticks\":\"\"}}}],\"scattermapbox\":[{\"type\":\"scattermapbox\",\"marker\":{\"colorbar\":{\"outlinewidth\":0,\"ticks\":\"\"}}}],\"scatterternary\":[{\"type\":\"scatterternary\",\"marker\":{\"colorbar\":{\"outlinewidth\":0,\"ticks\":\"\"}}}],\"scattercarpet\":[{\"type\":\"scattercarpet\",\"marker\":{\"colorbar\":{\"outlinewidth\":0,\"ticks\":\"\"}}}],\"carpet\":[{\"aaxis\":{\"endlinecolor\":\"#2a3f5f\",\"gridcolor\":\"#C8D4E3\",\"linecolor\":\"#C8D4E3\",\"minorgridcolor\":\"#C8D4E3\",\"startlinecolor\":\"#2a3f5f\"},\"baxis\":{\"endlinecolor\":\"#2a3f5f\",\"gridcolor\":\"#C8D4E3\",\"linecolor\":\"#C8D4E3\",\"minorgridcolor\":\"#C8D4E3\",\"startlinecolor\":\"#2a3f5f\"},\"type\":\"carpet\"}],\"table\":[{\"cells\":{\"fill\":{\"color\":\"#EBF0F8\"},\"line\":{\"color\":\"white\"}},\"header\":{\"fill\":{\"color\":\"#C8D4E3\"},\"line\":{\"color\":\"white\"}},\"type\":\"table\"}],\"barpolar\":[{\"marker\":{\"line\":{\"color\":\"white\",\"width\":0.5},\"pattern\":{\"fillmode\":\"overlay\",\"size\":10,\"solidity\":0.2}},\"type\":\"barpolar\"}],\"pie\":[{\"automargin\":true,\"type\":\"pie\"}]},\"layout\":{\"autotypenumbers\":\"strict\",\"colorway\":[\"#636efa\",\"#EF553B\",\"#00cc96\",\"#ab63fa\",\"#FFA15A\",\"#19d3f3\",\"#FF6692\",\"#B6E880\",\"#FF97FF\",\"#FECB52\"],\"font\":{\"color\":\"#2a3f5f\"},\"hovermode\":\"closest\",\"hoverlabel\":{\"align\":\"left\"},\"paper_bgcolor\":\"white\",\"plot_bgcolor\":\"white\",\"polar\":{\"bgcolor\":\"white\",\"angularaxis\":{\"gridcolor\":\"#EBF0F8\",\"linecolor\":\"#EBF0F8\",\"ticks\":\"\"},\"radialaxis\":{\"gridcolor\":\"#EBF0F8\",\"linecolor\":\"#EBF0F8\",\"ticks\":\"\"}},\"ternary\":{\"bgcolor\":\"white\",\"aaxis\":{\"gridcolor\":\"#DFE8F3\",\"linecolor\":\"#A2B1C6\",\"ticks\":\"\"},\"baxis\":{\"gridcolor\":\"#DFE8F3\",\"linecolor\":\"#A2B1C6\",\"ticks\":\"\"},\"caxis\":{\"gridcolor\":\"#DFE8F3\",\"linecolor\":\"#A2B1C6\",\"ticks\":\"\"}},\"coloraxis\":{\"colorbar\":{\"outlinewidth\":0,\"ticks\":\"\"}},\"colorscale\":{\"sequential\":[[0.0,\"#0d0887\"],[0.1111111111111111,\"#46039f\"],[0.2222222222222222,\"#7201a8\"],[0.3333333333333333,\"#9c179e\"],[0.4444444444444444,\"#bd3786\"],[0.5555555555555556,\"#d8576b\"],[0.6666666666666666,\"#ed7953\"],[0.7777777777777778,\"#fb9f3a\"],[0.8888888888888888,\"#fdca26\"],[1.0,\"#f0f921\"]],\"sequentialminus\":[[0.0,\"#0d0887\"],[0.1111111111111111,\"#46039f\"],[0.2222222222222222,\"#7201a8\"],[0.3333333333333333,\"#9c179e\"],[0.4444444444444444,\"#bd3786\"],[0.5555555555555556,\"#d8576b\"],[0.6666666666666666,\"#ed7953\"],[0.7777777777777778,\"#fb9f3a\"],[0.8888888888888888,\"#fdca26\"],[1.0,\"#f0f921\"]],\"diverging\":[[0,\"#8e0152\"],[0.1,\"#c51b7d\"],[0.2,\"#de77ae\"],[0.3,\"#f1b6da\"],[0.4,\"#fde0ef\"],[0.5,\"#f7f7f7\"],[0.6,\"#e6f5d0\"],[0.7,\"#b8e186\"],[0.8,\"#7fbc41\"],[0.9,\"#4d9221\"],[1,\"#276419\"]]},\"xaxis\":{\"gridcolor\":\"#EBF0F8\",\"linecolor\":\"#EBF0F8\",\"ticks\":\"\",\"title\":{\"standoff\":15},\"zerolinecolor\":\"#EBF0F8\",\"automargin\":true,\"zerolinewidth\":2},\"yaxis\":{\"gridcolor\":\"#EBF0F8\",\"linecolor\":\"#EBF0F8\",\"ticks\":\"\",\"title\":{\"standoff\":15},\"zerolinecolor\":\"#EBF0F8\",\"automargin\":true,\"zerolinewidth\":2},\"scene\":{\"xaxis\":{\"backgroundcolor\":\"white\",\"gridcolor\":\"#DFE8F3\",\"linecolor\":\"#EBF0F8\",\"showbackground\":true,\"ticks\":\"\",\"zerolinecolor\":\"#EBF0F8\",\"gridwidth\":2},\"yaxis\":{\"backgroundcolor\":\"white\",\"gridcolor\":\"#DFE8F3\",\"linecolor\":\"#EBF0F8\",\"showbackground\":true,\"ticks\":\"\",\"zerolinecolor\":\"#EBF0F8\",\"gridwidth\":2},\"zaxis\":{\"backgroundcolor\":\"white\",\"gridcolor\":\"#DFE8F3\",\"linecolor\":\"#EBF0F8\",\"showbackground\":true,\"ticks\":\"\",\"zerolinecolor\":\"#EBF0F8\",\"gridwidth\":2}},\"shapedefaults\":{\"line\":{\"color\":\"#2a3f5f\"}},\"annotationdefaults\":{\"arrowcolor\":\"#2a3f5f\",\"arrowhead\":0,\"arrowwidth\":1},\"geo\":{\"bgcolor\":\"white\",\"landcolor\":\"white\",\"subunitcolor\":\"#C8D4E3\",\"showland\":true,\"showlakes\":true,\"lakecolor\":\"white\"},\"title\":{\"x\":0.05},\"mapbox\":{\"style\":\"light\"}}},\"xaxis\":{\"anchor\":\"y\",\"domain\":[0.0,1.0],\"title\":{\"text\":\"Loan Amount\"}},\"yaxis\":{\"anchor\":\"x\",\"domain\":[0.0,1.0],\"title\":{\"text\":\"count\"}},\"legend\":{\"tracegroupgap\":0},\"title\":{\"text\":\"Loan Amount Distribution\"},\"barmode\":\"relative\"},                        {\"responsive\": true}                    ).then(function(){\n",
              "                            \n",
              "var gd = document.getElementById('0097ba2d-91ec-449d-b2fd-5ae71d945874');\n",
              "var x = new MutationObserver(function (mutations, observer) {{\n",
              "        var display = window.getComputedStyle(gd).display;\n",
              "        if (!display || display === 'none') {{\n",
              "            console.log([gd, 'removed!']);\n",
              "            Plotly.purge(gd);\n",
              "            observer.disconnect();\n",
              "        }}\n",
              "}});\n",
              "\n",
              "// Listen for the removal of the full notebook cells\n",
              "var notebookContainer = gd.closest('#notebook-container');\n",
              "if (notebookContainer) {{\n",
              "    x.observe(notebookContainer, {childList: true});\n",
              "}}\n",
              "\n",
              "// Listen for the clearing of the current output cell\n",
              "var outputEl = gd.closest('.output');\n",
              "if (outputEl) {{\n",
              "    x.observe(outputEl, {childList: true});\n",
              "}}\n",
              "\n",
              "                        })                };                            </script>        </div>\n",
              "</body>\n",
              "</html>"
            ]
          },
          "metadata": {}
        }
      ]
    },
    {
      "cell_type": "markdown",
      "source": [
        "Now let’s have a look at the correlation in the data:"
      ],
      "metadata": {
        "id": "4jqB7rpulnOO"
      }
    },
    {
      "cell_type": "code",
      "source": [
        "numeric_df = data[['Credit Utilization Ratio',\n",
        "                   'Payment History',\n",
        "                   'Number of Credit Accounts',\n",
        "                   'Loan Amount', 'Interest Rate',\n",
        "                   'Loan Term']]\n",
        "correlation_fig = px.imshow(numeric_df.corr(),\n",
        "                            title='Correlation Heatmap')\n",
        "correlation_fig.show()"
      ],
      "metadata": {
        "colab": {
          "base_uri": "https://localhost:8080/",
          "height": 542
        },
        "id": "RZc9vCMpj7J7",
        "outputId": "5c9e0122-3727-4ce0-e14c-1092855d801a"
      },
      "execution_count": 11,
      "outputs": [
        {
          "output_type": "display_data",
          "data": {
            "text/html": [
              "<html>\n",
              "<head><meta charset=\"utf-8\" /></head>\n",
              "<body>\n",
              "    <div>            <script src=\"https://cdnjs.cloudflare.com/ajax/libs/mathjax/2.7.5/MathJax.js?config=TeX-AMS-MML_SVG\"></script><script type=\"text/javascript\">if (window.MathJax && window.MathJax.Hub && window.MathJax.Hub.Config) {window.MathJax.Hub.Config({SVG: {font: \"STIX-Web\"}});}</script>                <script type=\"text/javascript\">window.PlotlyConfig = {MathJaxConfig: 'local'};</script>\n",
              "        <script charset=\"utf-8\" src=\"https://cdn.plot.ly/plotly-2.24.1.min.js\"></script>                <div id=\"55e1cb3d-85d1-4d69-8070-3cc26ca1a8a1\" class=\"plotly-graph-div\" style=\"height:525px; width:100%;\"></div>            <script type=\"text/javascript\">                                    window.PLOTLYENV=window.PLOTLYENV || {};                                    if (document.getElementById(\"55e1cb3d-85d1-4d69-8070-3cc26ca1a8a1\")) {                    Plotly.newPlot(                        \"55e1cb3d-85d1-4d69-8070-3cc26ca1a8a1\",                        [{\"coloraxis\":\"coloraxis\",\"name\":\"0\",\"x\":[\"Credit Utilization Ratio\",\"Payment History\",\"Number of Credit Accounts\",\"Loan Amount\",\"Interest Rate\",\"Loan Term\"],\"y\":[\"Credit Utilization Ratio\",\"Payment History\",\"Number of Credit Accounts\",\"Loan Amount\",\"Interest Rate\",\"Loan Term\"],\"z\":[[1.0,0.0021141964664825558,-0.0018417352448918448,-0.014918441087073266,0.04823694488220739,-0.02292437660519626],[0.0021141964664825558,1.0,0.025022343665911207,-0.01908376738110175,-0.017618250959028903,-0.045531973089473786],[-0.0018417352448918448,0.025022343665911207,1.0,0.03223218947381575,-0.0010828602014753936,0.012793615844397942],[-0.014918441087073266,-0.01908376738110175,0.03223218947381575,1.0,0.04528807708804023,0.014282992331967325],[0.04823694488220739,-0.017618250959028903,-0.0010828602014753936,0.04528807708804023,1.0,0.028189737847988432],[-0.02292437660519626,-0.045531973089473786,0.012793615844397942,0.014282992331967325,0.028189737847988432,1.0]],\"type\":\"heatmap\",\"xaxis\":\"x\",\"yaxis\":\"y\",\"hovertemplate\":\"x: %{x}\\u003cbr\\u003ey: %{y}\\u003cbr\\u003ecolor: %{z}\\u003cextra\\u003e\\u003c\\u002fextra\\u003e\"}],                        {\"template\":{\"data\":{\"histogram2dcontour\":[{\"type\":\"histogram2dcontour\",\"colorbar\":{\"outlinewidth\":0,\"ticks\":\"\"},\"colorscale\":[[0.0,\"#0d0887\"],[0.1111111111111111,\"#46039f\"],[0.2222222222222222,\"#7201a8\"],[0.3333333333333333,\"#9c179e\"],[0.4444444444444444,\"#bd3786\"],[0.5555555555555556,\"#d8576b\"],[0.6666666666666666,\"#ed7953\"],[0.7777777777777778,\"#fb9f3a\"],[0.8888888888888888,\"#fdca26\"],[1.0,\"#f0f921\"]]}],\"choropleth\":[{\"type\":\"choropleth\",\"colorbar\":{\"outlinewidth\":0,\"ticks\":\"\"}}],\"histogram2d\":[{\"type\":\"histogram2d\",\"colorbar\":{\"outlinewidth\":0,\"ticks\":\"\"},\"colorscale\":[[0.0,\"#0d0887\"],[0.1111111111111111,\"#46039f\"],[0.2222222222222222,\"#7201a8\"],[0.3333333333333333,\"#9c179e\"],[0.4444444444444444,\"#bd3786\"],[0.5555555555555556,\"#d8576b\"],[0.6666666666666666,\"#ed7953\"],[0.7777777777777778,\"#fb9f3a\"],[0.8888888888888888,\"#fdca26\"],[1.0,\"#f0f921\"]]}],\"heatmap\":[{\"type\":\"heatmap\",\"colorbar\":{\"outlinewidth\":0,\"ticks\":\"\"},\"colorscale\":[[0.0,\"#0d0887\"],[0.1111111111111111,\"#46039f\"],[0.2222222222222222,\"#7201a8\"],[0.3333333333333333,\"#9c179e\"],[0.4444444444444444,\"#bd3786\"],[0.5555555555555556,\"#d8576b\"],[0.6666666666666666,\"#ed7953\"],[0.7777777777777778,\"#fb9f3a\"],[0.8888888888888888,\"#fdca26\"],[1.0,\"#f0f921\"]]}],\"heatmapgl\":[{\"type\":\"heatmapgl\",\"colorbar\":{\"outlinewidth\":0,\"ticks\":\"\"},\"colorscale\":[[0.0,\"#0d0887\"],[0.1111111111111111,\"#46039f\"],[0.2222222222222222,\"#7201a8\"],[0.3333333333333333,\"#9c179e\"],[0.4444444444444444,\"#bd3786\"],[0.5555555555555556,\"#d8576b\"],[0.6666666666666666,\"#ed7953\"],[0.7777777777777778,\"#fb9f3a\"],[0.8888888888888888,\"#fdca26\"],[1.0,\"#f0f921\"]]}],\"contourcarpet\":[{\"type\":\"contourcarpet\",\"colorbar\":{\"outlinewidth\":0,\"ticks\":\"\"}}],\"contour\":[{\"type\":\"contour\",\"colorbar\":{\"outlinewidth\":0,\"ticks\":\"\"},\"colorscale\":[[0.0,\"#0d0887\"],[0.1111111111111111,\"#46039f\"],[0.2222222222222222,\"#7201a8\"],[0.3333333333333333,\"#9c179e\"],[0.4444444444444444,\"#bd3786\"],[0.5555555555555556,\"#d8576b\"],[0.6666666666666666,\"#ed7953\"],[0.7777777777777778,\"#fb9f3a\"],[0.8888888888888888,\"#fdca26\"],[1.0,\"#f0f921\"]]}],\"surface\":[{\"type\":\"surface\",\"colorbar\":{\"outlinewidth\":0,\"ticks\":\"\"},\"colorscale\":[[0.0,\"#0d0887\"],[0.1111111111111111,\"#46039f\"],[0.2222222222222222,\"#7201a8\"],[0.3333333333333333,\"#9c179e\"],[0.4444444444444444,\"#bd3786\"],[0.5555555555555556,\"#d8576b\"],[0.6666666666666666,\"#ed7953\"],[0.7777777777777778,\"#fb9f3a\"],[0.8888888888888888,\"#fdca26\"],[1.0,\"#f0f921\"]]}],\"mesh3d\":[{\"type\":\"mesh3d\",\"colorbar\":{\"outlinewidth\":0,\"ticks\":\"\"}}],\"scatter\":[{\"fillpattern\":{\"fillmode\":\"overlay\",\"size\":10,\"solidity\":0.2},\"type\":\"scatter\"}],\"parcoords\":[{\"type\":\"parcoords\",\"line\":{\"colorbar\":{\"outlinewidth\":0,\"ticks\":\"\"}}}],\"scatterpolargl\":[{\"type\":\"scatterpolargl\",\"marker\":{\"colorbar\":{\"outlinewidth\":0,\"ticks\":\"\"}}}],\"bar\":[{\"error_x\":{\"color\":\"#2a3f5f\"},\"error_y\":{\"color\":\"#2a3f5f\"},\"marker\":{\"line\":{\"color\":\"white\",\"width\":0.5},\"pattern\":{\"fillmode\":\"overlay\",\"size\":10,\"solidity\":0.2}},\"type\":\"bar\"}],\"scattergeo\":[{\"type\":\"scattergeo\",\"marker\":{\"colorbar\":{\"outlinewidth\":0,\"ticks\":\"\"}}}],\"scatterpolar\":[{\"type\":\"scatterpolar\",\"marker\":{\"colorbar\":{\"outlinewidth\":0,\"ticks\":\"\"}}}],\"histogram\":[{\"marker\":{\"pattern\":{\"fillmode\":\"overlay\",\"size\":10,\"solidity\":0.2}},\"type\":\"histogram\"}],\"scattergl\":[{\"type\":\"scattergl\",\"marker\":{\"colorbar\":{\"outlinewidth\":0,\"ticks\":\"\"}}}],\"scatter3d\":[{\"type\":\"scatter3d\",\"line\":{\"colorbar\":{\"outlinewidth\":0,\"ticks\":\"\"}},\"marker\":{\"colorbar\":{\"outlinewidth\":0,\"ticks\":\"\"}}}],\"scattermapbox\":[{\"type\":\"scattermapbox\",\"marker\":{\"colorbar\":{\"outlinewidth\":0,\"ticks\":\"\"}}}],\"scatterternary\":[{\"type\":\"scatterternary\",\"marker\":{\"colorbar\":{\"outlinewidth\":0,\"ticks\":\"\"}}}],\"scattercarpet\":[{\"type\":\"scattercarpet\",\"marker\":{\"colorbar\":{\"outlinewidth\":0,\"ticks\":\"\"}}}],\"carpet\":[{\"aaxis\":{\"endlinecolor\":\"#2a3f5f\",\"gridcolor\":\"#C8D4E3\",\"linecolor\":\"#C8D4E3\",\"minorgridcolor\":\"#C8D4E3\",\"startlinecolor\":\"#2a3f5f\"},\"baxis\":{\"endlinecolor\":\"#2a3f5f\",\"gridcolor\":\"#C8D4E3\",\"linecolor\":\"#C8D4E3\",\"minorgridcolor\":\"#C8D4E3\",\"startlinecolor\":\"#2a3f5f\"},\"type\":\"carpet\"}],\"table\":[{\"cells\":{\"fill\":{\"color\":\"#EBF0F8\"},\"line\":{\"color\":\"white\"}},\"header\":{\"fill\":{\"color\":\"#C8D4E3\"},\"line\":{\"color\":\"white\"}},\"type\":\"table\"}],\"barpolar\":[{\"marker\":{\"line\":{\"color\":\"white\",\"width\":0.5},\"pattern\":{\"fillmode\":\"overlay\",\"size\":10,\"solidity\":0.2}},\"type\":\"barpolar\"}],\"pie\":[{\"automargin\":true,\"type\":\"pie\"}]},\"layout\":{\"autotypenumbers\":\"strict\",\"colorway\":[\"#636efa\",\"#EF553B\",\"#00cc96\",\"#ab63fa\",\"#FFA15A\",\"#19d3f3\",\"#FF6692\",\"#B6E880\",\"#FF97FF\",\"#FECB52\"],\"font\":{\"color\":\"#2a3f5f\"},\"hovermode\":\"closest\",\"hoverlabel\":{\"align\":\"left\"},\"paper_bgcolor\":\"white\",\"plot_bgcolor\":\"white\",\"polar\":{\"bgcolor\":\"white\",\"angularaxis\":{\"gridcolor\":\"#EBF0F8\",\"linecolor\":\"#EBF0F8\",\"ticks\":\"\"},\"radialaxis\":{\"gridcolor\":\"#EBF0F8\",\"linecolor\":\"#EBF0F8\",\"ticks\":\"\"}},\"ternary\":{\"bgcolor\":\"white\",\"aaxis\":{\"gridcolor\":\"#DFE8F3\",\"linecolor\":\"#A2B1C6\",\"ticks\":\"\"},\"baxis\":{\"gridcolor\":\"#DFE8F3\",\"linecolor\":\"#A2B1C6\",\"ticks\":\"\"},\"caxis\":{\"gridcolor\":\"#DFE8F3\",\"linecolor\":\"#A2B1C6\",\"ticks\":\"\"}},\"coloraxis\":{\"colorbar\":{\"outlinewidth\":0,\"ticks\":\"\"}},\"colorscale\":{\"sequential\":[[0.0,\"#0d0887\"],[0.1111111111111111,\"#46039f\"],[0.2222222222222222,\"#7201a8\"],[0.3333333333333333,\"#9c179e\"],[0.4444444444444444,\"#bd3786\"],[0.5555555555555556,\"#d8576b\"],[0.6666666666666666,\"#ed7953\"],[0.7777777777777778,\"#fb9f3a\"],[0.8888888888888888,\"#fdca26\"],[1.0,\"#f0f921\"]],\"sequentialminus\":[[0.0,\"#0d0887\"],[0.1111111111111111,\"#46039f\"],[0.2222222222222222,\"#7201a8\"],[0.3333333333333333,\"#9c179e\"],[0.4444444444444444,\"#bd3786\"],[0.5555555555555556,\"#d8576b\"],[0.6666666666666666,\"#ed7953\"],[0.7777777777777778,\"#fb9f3a\"],[0.8888888888888888,\"#fdca26\"],[1.0,\"#f0f921\"]],\"diverging\":[[0,\"#8e0152\"],[0.1,\"#c51b7d\"],[0.2,\"#de77ae\"],[0.3,\"#f1b6da\"],[0.4,\"#fde0ef\"],[0.5,\"#f7f7f7\"],[0.6,\"#e6f5d0\"],[0.7,\"#b8e186\"],[0.8,\"#7fbc41\"],[0.9,\"#4d9221\"],[1,\"#276419\"]]},\"xaxis\":{\"gridcolor\":\"#EBF0F8\",\"linecolor\":\"#EBF0F8\",\"ticks\":\"\",\"title\":{\"standoff\":15},\"zerolinecolor\":\"#EBF0F8\",\"automargin\":true,\"zerolinewidth\":2},\"yaxis\":{\"gridcolor\":\"#EBF0F8\",\"linecolor\":\"#EBF0F8\",\"ticks\":\"\",\"title\":{\"standoff\":15},\"zerolinecolor\":\"#EBF0F8\",\"automargin\":true,\"zerolinewidth\":2},\"scene\":{\"xaxis\":{\"backgroundcolor\":\"white\",\"gridcolor\":\"#DFE8F3\",\"linecolor\":\"#EBF0F8\",\"showbackground\":true,\"ticks\":\"\",\"zerolinecolor\":\"#EBF0F8\",\"gridwidth\":2},\"yaxis\":{\"backgroundcolor\":\"white\",\"gridcolor\":\"#DFE8F3\",\"linecolor\":\"#EBF0F8\",\"showbackground\":true,\"ticks\":\"\",\"zerolinecolor\":\"#EBF0F8\",\"gridwidth\":2},\"zaxis\":{\"backgroundcolor\":\"white\",\"gridcolor\":\"#DFE8F3\",\"linecolor\":\"#EBF0F8\",\"showbackground\":true,\"ticks\":\"\",\"zerolinecolor\":\"#EBF0F8\",\"gridwidth\":2}},\"shapedefaults\":{\"line\":{\"color\":\"#2a3f5f\"}},\"annotationdefaults\":{\"arrowcolor\":\"#2a3f5f\",\"arrowhead\":0,\"arrowwidth\":1},\"geo\":{\"bgcolor\":\"white\",\"landcolor\":\"white\",\"subunitcolor\":\"#C8D4E3\",\"showland\":true,\"showlakes\":true,\"lakecolor\":\"white\"},\"title\":{\"x\":0.05},\"mapbox\":{\"style\":\"light\"}}},\"xaxis\":{\"anchor\":\"y\",\"domain\":[0.0,1.0],\"scaleanchor\":\"y\",\"constrain\":\"domain\"},\"yaxis\":{\"anchor\":\"x\",\"domain\":[0.0,1.0],\"autorange\":\"reversed\",\"constrain\":\"domain\"},\"coloraxis\":{\"colorscale\":[[0.0,\"#0d0887\"],[0.1111111111111111,\"#46039f\"],[0.2222222222222222,\"#7201a8\"],[0.3333333333333333,\"#9c179e\"],[0.4444444444444444,\"#bd3786\"],[0.5555555555555556,\"#d8576b\"],[0.6666666666666666,\"#ed7953\"],[0.7777777777777778,\"#fb9f3a\"],[0.8888888888888888,\"#fdca26\"],[1.0,\"#f0f921\"]]},\"title\":{\"text\":\"Correlation Heatmap\"}},                        {\"responsive\": true}                    ).then(function(){\n",
              "                            \n",
              "var gd = document.getElementById('55e1cb3d-85d1-4d69-8070-3cc26ca1a8a1');\n",
              "var x = new MutationObserver(function (mutations, observer) {{\n",
              "        var display = window.getComputedStyle(gd).display;\n",
              "        if (!display || display === 'none') {{\n",
              "            console.log([gd, 'removed!']);\n",
              "            Plotly.purge(gd);\n",
              "            observer.disconnect();\n",
              "        }}\n",
              "}});\n",
              "\n",
              "// Listen for the removal of the full notebook cells\n",
              "var notebookContainer = gd.closest('#notebook-container');\n",
              "if (notebookContainer) {{\n",
              "    x.observe(notebookContainer, {childList: true});\n",
              "}}\n",
              "\n",
              "// Listen for the clearing of the current output cell\n",
              "var outputEl = gd.closest('.output');\n",
              "if (outputEl) {{\n",
              "    x.observe(outputEl, {childList: true});\n",
              "}}\n",
              "\n",
              "                        })                };                            </script>        </div>\n",
              "</body>\n",
              "</html>"
            ]
          },
          "metadata": {}
        }
      ]
    },
    {
      "cell_type": "markdown",
      "source": [
        "# Calculating Credit Scores\n",
        "The dataset doesn’t have any feature representing the credit scores of individuals. To calculate the credit scores, we need to use an appropriate technique. There are several widely used techniques for calculating credit scores, each with its own calculation process. One example is the FICO score, a commonly used credit scoring model in the industry."
      ],
      "metadata": {
        "id": "aBde2fX1lyRn"
      }
    },
    {
      "cell_type": "markdown",
      "source": [
        "Below is how we can implement the FICO score method to calculate credit scores:"
      ],
      "metadata": {
        "id": "A9eSG06nl_T3"
      }
    },
    {
      "cell_type": "code",
      "source": [
        "# Import necessary libraries\n",
        "import pandas as pd\n",
        "\n",
        "# Define the mapping for categorical features\n",
        "education_level_mapping = {'High School': 1, 'Bachelor': 2, 'Master': 3, 'PhD': 4}\n",
        "employment_status_mapping = {'Unemployed': 0, 'Employed': 1, 'Self-Employed': 2}\n",
        "\n",
        "# Apply mapping to categorical features\n",
        "data['Education Level'] = data['Education Level'].map(education_level_mapping)\n",
        "data['Employment Status'] = data['Employment Status'].map(employment_status_mapping)\n",
        "\n",
        "# Define weights for the FICO formula\n",
        "weights = {'Payment History': 0.35, 'Credit Utilization Ratio': 0.30, 'Number of Credit Accounts': 0.15, 'Education Level': 0.10, 'Employment Status': 0.10}\n",
        "\n",
        "# Calculate credit scores using the FICO formula with vectorized operations\n",
        "data['Credit Score'] = (data[list(weights.keys())] * list(weights.values())).sum(axis=1)\n",
        "\n",
        "print(data.head())\n"
      ],
      "metadata": {
        "colab": {
          "base_uri": "https://localhost:8080/"
        },
        "id": "4gSCyefAj7YP",
        "outputId": "e87342fc-ee2b-4b47-cfa8-ab58bf13f4df"
      },
      "execution_count": 29,
      "outputs": [
        {
          "output_type": "stream",
          "name": "stdout",
          "text": [
            "   Age  Gender Marital Status  Education Level  Employment Status  \\\n",
            "0   60    Male        Married              NaN                NaN   \n",
            "1   25    Male        Married              NaN                NaN   \n",
            "2   30  Female         Single              NaN                NaN   \n",
            "3   58  Female        Married              NaN                NaN   \n",
            "4   32    Male        Married              NaN                NaN   \n",
            "\n",
            "   Credit Utilization Ratio  Payment History  Number of Credit Accounts  \\\n",
            "0                      0.22           2685.0                          2   \n",
            "1                      0.20           2371.0                          9   \n",
            "2                      0.22           2771.0                          6   \n",
            "3                      0.12           1371.0                          2   \n",
            "4                      0.99            828.0                          2   \n",
            "\n",
            "   Loan Amount  Interest Rate  Loan Term   Type of Loan  Credit Score  \n",
            "0      4675000           2.65         48  Personal Loan       940.116  \n",
            "1      3619000           5.19         60      Auto Loan       831.260  \n",
            "2       957000           2.76         12      Auto Loan       970.816  \n",
            "3      4731000           6.57         60      Auto Loan       480.186  \n",
            "4      3289000           6.28         36  Personal Loan       290.397  \n"
          ]
        }
      ]
    },
    {
      "cell_type": "code",
      "source": [
        "# Apply mapping to categorical features\n",
        "data['Education Level'] = data['Education Level'].map(education_level_mapping)\n",
        "data['Employment Status'] = data['Employment Status'].map(employment_status_mapping)"
      ],
      "metadata": {
        "id": "HFNIoFPdonc4"
      },
      "execution_count": 30,
      "outputs": []
    },
    {
      "cell_type": "code",
      "source": [
        "# Calculate credit scores using the complete FICO formula\n",
        "credit_scores = []\n",
        "\n",
        "for index, row in data.iterrows():\n",
        "    payment_history = row['Payment History']\n",
        "    credit_utilization_ratio = row['Credit Utilization Ratio']\n",
        "    number_of_credit_accounts = row['Number of Credit Accounts']\n",
        "    education_level = row['Education Level']\n",
        "    employment_status = row['Employment Status']\n",
        "\n",
        "    # Apply the FICO formula to calculate the credit score\n",
        "    credit_score = (payment_history * 0.35) + (credit_utilization_ratio * 0.30) + (number_of_credit_accounts * 0.15) + (education_level * 0.10) + (employment_status * 0.10)\n",
        "    credit_scores.append(credit_score)"
      ],
      "metadata": {
        "id": "F2h0x9BlooKf"
      },
      "execution_count": 31,
      "outputs": []
    },
    {
      "cell_type": "markdown",
      "source": [
        "Below is how the above code works:\n",
        "\n",
        "Firstly, it defines mappings for two categorical features: “Education Level” and “Employment Status”. The “Education Level” mapping assigns numerical values to different levels of education, such as “High School” being mapped to 1, “Bachelor” to 2, “Master” to 3, and “PhD” to 4. The “Employment Status” mapping assigns numerical values to different employment statuses, such as “Unemployed” being mapped to 0, “Employed” to 1, and “Self-Employed” to 2.\n",
        "Next, the code applies the defined mappings to the corresponding columns in the DataFrame. It transforms the values of the “Education Level” and “Employment Status” columns from their original categorical form to the mapped numerical representations.\n",
        "After that, the code initiates an iteration over each row of the DataFrame to calculate the credit scores for each individual. It retrieves the values of relevant features, such as “Payment History”, “Credit Utilization Ratio”, “Number of Credit Accounts”, “Education Level”, and “Employment Status”, from each row.\n",
        "Within the iteration, the FICO formula is applied to calculate the credit score for each individual. The formula incorporates the weighted values of the features mentioned earlier:\n",
        "\n",
        "35% weight for “Payment History”,\n",
        "30% weight for “Credit Utilization Ratio”,\n",
        "15% weight for “Number of Credit Accounts”,\n",
        "10% weight for “Education Level”,\n",
        "and 10% weight for “Employment Status”.\n",
        "The calculated credit score is then stored in a list called “credit_scores”.\n",
        "\n"
      ],
      "metadata": {
        "id": "-uQ7AIWanaXc"
      }
    },
    {
      "cell_type": "markdown",
      "source": [
        "## Segmentation Based on Credit Scores"
      ],
      "metadata": {
        "id": "KyRVpZAhnqkA"
      }
    },
    {
      "cell_type": "markdown",
      "source": [
        "Now, let’s use the KMeans clustering algorithm to segment customers based on their credit scores:"
      ],
      "metadata": {
        "id": "vFpCVSuToUau"
      }
    },
    {
      "cell_type": "code",
      "source": [
        "from sklearn.cluster import KMeans\n",
        "\n",
        "X = data[['Credit Score']]\n",
        "kmeans = KMeans(n_clusters=4, n_init=10, random_state=42)\n",
        "kmeans.fit(X)\n",
        "data['Segment'] = kmeans.labels_"
      ],
      "metadata": {
        "id": "6J_tXxnJnbSm"
      },
      "execution_count": 32,
      "outputs": []
    },
    {
      "cell_type": "code",
      "source": [
        "# Convert the 'Segment' column to category data type\n",
        "data['Segment'] = data['Segment'].astype('category')\n",
        "\n",
        "# Visualize the segments using Plotly\n",
        "fig = px.scatter(data, x=data.index, y='Credit Score', color='Segment',\n",
        "                 color_discrete_sequence=['green', 'blue', 'yellow', 'red'])\n",
        "fig.update_layout(\n",
        "    xaxis_title='Customer Index',\n",
        "    yaxis_title='Credit Score',\n",
        "    title='Customer Segmentation based on Credit Scores'\n",
        ")\n",
        "fig.show()"
      ],
      "metadata": {
        "colab": {
          "base_uri": "https://localhost:8080/",
          "height": 542
        },
        "id": "AaNStweLsObj",
        "outputId": "07a03aa4-027f-40fb-d7ff-44e2702af5f1"
      },
      "execution_count": 33,
      "outputs": [
        {
          "output_type": "display_data",
          "data": {
            "text/html": [
              "<html>\n",
              "<head><meta charset=\"utf-8\" /></head>\n",
              "<body>\n",
              "    <div>            <script src=\"https://cdnjs.cloudflare.com/ajax/libs/mathjax/2.7.5/MathJax.js?config=TeX-AMS-MML_SVG\"></script><script type=\"text/javascript\">if (window.MathJax && window.MathJax.Hub && window.MathJax.Hub.Config) {window.MathJax.Hub.Config({SVG: {font: \"STIX-Web\"}});}</script>                <script type=\"text/javascript\">window.PlotlyConfig = {MathJaxConfig: 'local'};</script>\n",
              "        <script charset=\"utf-8\" src=\"https://cdn.plot.ly/plotly-2.24.1.min.js\"></script>                <div id=\"46c7e102-b990-45ca-8e32-3246be230c95\" class=\"plotly-graph-div\" style=\"height:525px; width:100%;\"></div>            <script type=\"text/javascript\">                                    window.PLOTLYENV=window.PLOTLYENV || {};                                    if (document.getElementById(\"46c7e102-b990-45ca-8e32-3246be230c95\")) {                    Plotly.newPlot(                        \"46c7e102-b990-45ca-8e32-3246be230c95\",                        [{\"hovertemplate\":\"Segment=3\\u003cbr\\u003eindex=%{x}\\u003cbr\\u003eCredit Score=%{y}\\u003cextra\\u003e\\u003c\\u002fextra\\u003e\",\"legendgroup\":\"3\",\"marker\":{\"color\":\"green\",\"symbol\":\"circle\"},\"mode\":\"markers\",\"name\":\"3\",\"orientation\":\"v\",\"showlegend\":true,\"x\":[0,1,2,5,6,14,26,41,48,60,63,64,67,72,73,74,75,79,97,103,104,108,117,118,125,129,135,140,144,147,148,149,153,154,156,169,171,173,175,178,192,200,203,213,220,221,224,233,240,242,247,249,250,253,255,264,278,284,286,288,292,298,300,302,308,311,313,314,316,317,322,328,332,340,341,345,350,351,352,355,356,357,358,362,364,365,372,373,378,380,383,394,398,407,409,416,418,420,426,428,433,439,444,447,451,458,464,467,468,470,477,481,484,488,491,492,494,496,504,506,507,508,513,526,529,533,538,543,544,545,546,547,548,549,551,552,553,555,560,563,564,566,568,583,587,589,594,598,604,608,612,614,619,620,622,626,637,639,640,661,667,669,681,689,690,695,697,699,701,702,721,722,730,737,744,746,749,752,753,755,756,763,765,766,769,774,782,788,791,801,802,806,807,812,813,819,821,822,823,842,846,855,856,858,859,860,869,874,875,880,895,898,899,901,913,921,926,939,940,945,948,949,957,970,972,985,987,991,992,997],\"xaxis\":\"x\",\"y\":[940.1159999999999,831.2599999999999,970.8159999999999,820.2819999999999,980.2459999999999,831.0499999999998,831.4939999999999,880.0949999999999,840.327,921.444,870.074,790.7299999999999,801.487,881.1990000000001,981.0859999999998,961.0079999999999,801.259,971.299,1001.747,981.545,850.679,890.5039999999999,820.255,801.235,820.7679999999999,1001.441,801.2620000000001,820.3119999999999,950.503,901.281,911.251,910.7049999999999,811.325,921.4979999999999,880.185,841.2990000000001,920.718,941.2829999999999,819.9459999999999,820.669,861.0299999999999,940.458,800.4730000000001,810.563,1001.1139999999999,900.588,861.2939999999999,880.542,860.5469999999999,980.4889999999998,900.3479999999998,990.292,950.413,811.472,911.4369999999999,1000.7869999999999,981.6589999999999,880.7429999999999,931.0509999999999,870.5450000000001,841.587,930.3279999999999,831.1279999999999,870.308,820.423,830.8129999999999,1001.309,921.372,870.8359999999999,910.5459999999999,930.4689999999999,920.1239999999999,990.8829999999999,911.0919999999999,960.8519999999999,870.8629999999999,901.0229999999999,941.3879999999999,900.399,821.2719999999999,981.1729999999999,981.401,890.8129999999999,951.016,780.6039999999999,921.3299999999999,961.2539999999999,971.0619999999999,861.183,810.341,1001.4799999999999,900.1559999999998,890.612,920.8559999999999,861.4859999999999,801.43,961.1759999999999,780.7779999999999,930.1479999999999,881.274,920.1719999999999,861.324,930.5259999999998,931.0149999999999,980.9479999999999,800.605,991.024,781.3929999999999,940.0619999999999,891.284,891.3979999999999,780.643,861.399,1000.1329999999999,840.906,981.3589999999999,860.2409999999999,901.2539999999999,781.324,840.615,819.853,891.467,881.451,981.0919999999999,881.214,1000.1179999999999,801.28,971.149,921.27,940.8299999999998,781.066,881.439,811.5799999999999,931.0839999999998,959.8739999999999,901.14,810.188,821.161,819.9819999999999,900.591,900.0629999999999,961.4699999999999,1000.8589999999999,970.2759999999998,901.3259999999999,920.0369999999999,800.35,970.2669999999998,850.943,951.298,921.255,981.0799999999998,800.9259999999999,890.6959999999999,980.6059999999999,1000.9849999999999,870.2539999999999,820.708,981.1219999999998,960.2399999999999,871.22,940.419,940.7669999999999,830.5279999999999,1000.847,891.068,970.8219999999999,861.6719999999999,830.2009999999999,920.6279999999999,780.3369999999999,881.211,890.8789999999999,911.2599999999999,840.624,861.5129999999999,800.446,800.896,940.5029999999999,921.3119999999999,960.093,931.108,901.155,860.2889999999999,951.0129999999999,970.7799999999999,981.7789999999999,931.2579999999999,950.566,791.0389999999999,880.554,891.3589999999999,861.543,950.107,971.401,950.992,991.0749999999999,980.7499999999999,971.0469999999999,930.547,880.668,990.358,900.588,951.472,819.8679999999999,900.5999999999999,991.117,891.2869999999999,850.3609999999999,960.5519999999999,990.8889999999999,800.197,841.77,930.466,921.108,841.359,891.257,980.6419999999999,1001.0539999999999,920.1389999999999,950.542,850.697,811.439,840.42,791.3629999999999,831.0439999999999,920.259,850.451,980.747,921.3539999999999],\"yaxis\":\"y\",\"type\":\"scatter\"},{\"hovertemplate\":\"Segment=0\\u003cbr\\u003eindex=%{x}\\u003cbr\\u003eCredit Score=%{y}\\u003cextra\\u003e\\u003c\\u002fextra\\u003e\",\"legendgroup\":\"0\",\"marker\":{\"color\":\"blue\",\"symbol\":\"circle\"},\"mode\":\"markers\",\"name\":\"0\",\"orientation\":\"v\",\"showlegend\":true,\"x\":[3,4,7,8,9,12,16,20,21,24,34,36,37,44,49,51,52,54,55,58,59,68,82,84,86,87,88,89,90,91,92,95,101,107,115,116,120,123,132,134,137,141,143,145,146,157,160,161,163,165,170,176,180,182,191,208,215,217,218,226,229,230,237,241,246,251,257,259,260,263,268,269,270,271,279,287,289,291,293,296,301,303,305,309,315,320,323,329,330,333,334,336,338,343,349,353,354,359,360,368,371,376,377,385,388,391,393,399,403,404,405,406,408,411,415,417,429,430,432,434,443,446,450,456,459,460,469,471,475,478,480,482,485,487,497,499,500,514,515,516,518,519,520,522,527,528,530,532,535,537,539,554,561,562,565,567,570,573,574,584,588,590,593,599,600,601,602,603,605,607,609,610,615,618,629,630,632,638,656,659,678,679,686,693,694,696,700,705,715,718,723,724,725,726,727,728,731,736,740,741,742,745,748,750,751,754,757,762,770,771,772,775,781,789,793,808,809,810,816,818,825,826,827,828,832,838,845,847,850,852,854,861,862,863,865,870,873,878,885,889,892,896,902,906,907,910,911,917,918,919,923,925,931,932,934,941,943,947,950,952,954,961,963,967,971,977,978,979,981,983,989,995,998,999],\"xaxis\":\"x\",\"y\":[480.186,290.397,501.1979999999999,280.57,481.36799999999994,390.779,271.401,510.16299999999995,270.05699999999996,300.916,330.02399999999994,421.785,371.42,300.913,430.98499999999996,271.08299999999997,391.57399999999996,461.133,410.627,510.637,340.80999999999995,391.45099999999996,421.374,311.22900000000004,441.582,481.383,360.625,391.29499999999996,461.487,281.092,331.425,350.33599999999996,511.3,441.555,410.3059999999999,390.82399999999996,470.462,431.42299999999994,490.41099999999994,300.93399999999997,470.642,491.1219999999999,441.35699999999997,491.61099999999993,400.561,441.297,449.9659999999999,330.729,431.387,381.472,310.644,501.29999999999995,340.88499999999993,280.633,511.37199999999996,290.676,411.08,460.88399999999996,500.7029999999999,390.8419999999999,490.32699999999994,331.03799999999995,271.032,410.495,320.395,400.438,300.385,340.38399999999996,460.18799999999993,510.544,500.9789999999999,400.885,381.493,380.515,491.0739999999999,491.19999999999993,480.35099999999994,300.334,501.09299999999996,500.0399999999999,420.72,521.2230000000001,470.96,271.18799999999993,421.137,281.11899999999997,321.514,461.05499999999995,340.438,399.92799999999994,311.14799999999997,510.742,430.90099999999995,411.38,481.09799999999996,401.284,270.85499999999996,321.265,490.39599999999996,421.404,370.61899999999997,441.39599999999996,270.49199999999996,290.24399999999997,320.815,491.06199999999995,300.11199999999997,271.443,400.006,300.865,461.175,480.618,321.16599999999994,430.424,450.6619999999999,330.26099999999997,450.2179999999999,450.4069999999999,331.14,410.27299999999997,450.21199999999993,480.2339999999999,411.58399999999995,481.317,280.735,391.445,371.501,410.32699999999994,311.28000000000003,480.246,400.633,520.1999999999999,520.134,400.063,421.176,301.627,431.32099999999997,371.465,320.13399999999996,301.38399999999996,381.07,401.164,321.64,280.885,321.27099999999996,421.095,430.25899999999996,301.45,390.215,350.46799999999996,361.04499999999996,420.174,411.24499999999995,470.519,511.426,390.215,440.85299999999995,480.657,380.995,320.08599999999996,290.91299999999995,371.165,451.2319999999999,330.91799999999995,441.702,310.368,410.0059999999999,400.756,381.331,321.52299999999997,300.53799999999995,321.59499999999997,351.25399999999996,301.186,420.618,380.986,351.161,341.539,441.207,330.70799999999997,390.77599999999995,391.544,410.48299999999995,400.74999999999994,420.438,481.64099999999996,350.819,430.02199999999993,421.281,391.38199999999995,301.135,371.375,471.029,371.57,420.76500000000004,360.9309999999999,450.8929999999999,490.82199999999995,500.1209999999999,271.26899999999995,320.635,500.40899999999993,430.697,510.90099999999995,270.921,311.379,281.71,481.335,360.97599999999994,270.47099999999995,370.301,461.19599999999997,280.981,500.328,301.009,481.38899999999995,451.08199999999994,400.123,420.936,470.591,350.72,290.589,441.108,351.587,321.415,330.414,430.32199999999995,280.15,440.496,450.8809999999999,460.07699999999994,281.236,480.49199999999996,420.38399999999996,390.07699999999994,391.481,400.852,270.2939999999999,521.0999999999999,441.435,490.7319999999999,350.498,510.70300000000003,399.88599999999997,270.21299999999997,510.352,351.116,310.51800000000003,430.54699999999997,461.01599999999996,510.48699999999997,280.867,280.74399999999997,480.17699999999996,440.991,521.091,340.174,301.594,490.1859999999999,451.4479999999999,441.738,289.98599999999993,329.991,491.19399999999996,461.34,361.429,351.023,321.481,330.582,451.10599999999994,460.74,451.1719999999999,400.246,360.60099999999994],\"yaxis\":\"y\",\"type\":\"scatter\"},{\"hovertemplate\":\"Segment=2\\u003cbr\\u003eindex=%{x}\\u003cbr\\u003eCredit Score=%{y}\\u003cextra\\u003e\\u003c\\u002fextra\\u003e\",\"legendgroup\":\"2\",\"marker\":{\"color\":\"yellow\",\"symbol\":\"circle\"},\"mode\":\"markers\",\"name\":\"2\",\"orientation\":\"v\",\"showlegend\":true,\"x\":[10,11,18,27,28,30,31,33,46,47,50,53,56,57,61,65,76,77,78,85,93,96,98,99,105,109,110,112,113,114,122,126,128,136,142,151,152,158,166,168,172,174,179,184,187,188,194,196,202,204,205,210,214,216,219,222,227,232,238,239,245,248,252,254,256,258,261,266,267,272,273,275,276,282,283,290,297,299,318,319,324,327,337,339,344,347,348,361,366,367,369,370,375,379,382,384,389,390,400,410,413,414,422,424,425,427,435,436,437,438,448,449,452,453,454,455,457,462,463,465,472,476,486,493,495,502,505,511,512,521,523,524,525,531,534,540,541,542,550,558,575,578,582,585,586,592,595,597,613,621,624,625,627,628,631,634,635,636,645,650,653,658,662,666,670,673,674,680,682,687,691,704,706,707,709,710,714,716,719,720,729,732,733,739,743,747,758,759,764,767,773,776,777,778,783,784,795,797,800,805,811,814,817,820,824,830,835,837,839,844,848,849,857,864,866,867,871,876,877,879,884,887,897,900,904,905,908,914,915,924,927,929,930,935,936,937,946,951,956,959,964,965,969,973,974,975,982,986,990,993],\"xaxis\":\"x\",\"y\":[201.13699999999997,250.50299999999996,130.552,190.672,60.422999999999995,50.693,30.463999999999995,80.649,1.0139999999999998,30.932,80.016,151.48,231.40499999999997,100.63499999999999,160.91299999999998,120.58799999999998,150.38799999999998,181.088,0.831,180.77299999999997,81.066,240.17,180.34999999999997,20.576999999999998,161.522,30.238999999999997,60.48,50.501,1.299,21.162,50.495,230.658,211.43099999999998,101.29799999999999,231.42899999999997,90.64599999999999,70.429,180.33499999999998,141.149,190.843,100.938,120.36599999999999,111.106,211.062,170.854,150.50799999999998,190.576,111.50499999999998,210.68699999999998,1.4969999999999999,121.08299999999998,170.27800000000002,231.039,170.614,251.38499999999996,190.825,50.020999999999994,230.94299999999998,150.66099999999997,71.743,201.08599999999998,150.952,261.314,221.16499999999996,260.174,169.903,0.372,70.59700000000001,170.83,170.29000000000002,90.277,189.934,251.29199999999997,181.41799999999998,170.29,211.782,210.885,181.52299999999997,211.728,41.364,151.28199999999998,261.04999999999995,20.475,120.43499999999999,171.04000000000002,70.615,41.025,130.879,240.67099999999996,210.43800000000002,171.358,41.313,221.012,171.277,20.589000000000002,51.175999999999995,200.38400000000001,110.353,250.56299999999996,100.935,130.201,190.078,130.606,91.53399999999998,40.722,140.666,41.457,90.283,71.737,241.21699999999996,100.989,170.98899999999998,190.207,20.985,180.26899999999998,61.236,20.378999999999998,180.146,31.288999999999998,200.59099999999998,50.315,41.445,190.47099999999998,180.74599999999998,251.34899999999996,110.69799999999998,30.607999999999997,110.76699999999998,11.161999999999999,231.057,111.68799999999999,91.34799999999998,70.849,130.96,181.11199999999997,41.583,151.22199999999998,190.93299999999996,51.193999999999996,80.68499999999999,81.447,211.53,150.62199999999999,30.250999999999998,121.371,250.908,190.654,40.488,111.14799999999998,231.34199999999998,250.94099999999997,150.23499999999999,180.10399999999998,170.653,160.514,201.19099999999997,180.45499999999998,1.65,51.074,240.09199999999998,130.999,201.40099999999998,200.873,211.34400000000002,31.147999999999996,130.972,161.16799999999998,190.801,241.41799999999998,150.064,0.44099999999999995,120.03899999999999,70.186,71.38,81.48,230.736,51.035,241.33699999999996,160.59199999999998,190.68699999999998,261.116,170.43699999999998,241.10899999999995,221.033,240.92,0.16499999999999998,180.51499999999996,250.54799999999997,91.29699999999998,110.98599999999999,10.177999999999999,170.15200000000002,240.02299999999997,100.872,110.23599999999999,0.9239999999999999,121.40699999999998,150.54099999999997,50.33,120.83099999999999,11.129,140.951,101.247,40.572,251.34599999999998,110.374,201.404,60.711,220.84099999999998,9.982999999999999,141.464,100.00800000000001,200.252,40.56,120.80999999999999,40.827,110.30799999999999,251.18099999999998,190.91199999999998,100.581,241.35499999999996,120.18599999999999,230.328,31.156999999999996,81.27,230.85899999999998,250.74299999999997,50.263999999999996,150.42399999999998,60.065999999999995,180.32,210.60899999999998,10.808,200.768,1.197,180.71299999999997,260.03,200.753,40.275,91.015,70.87299999999999,101.32199999999999,161.17399999999998,180.296,100.01400000000001,231.063,40.383,30.322999999999997,91.018,40.98],\"yaxis\":\"y\",\"type\":\"scatter\"},{\"hovertemplate\":\"Segment=1\\u003cbr\\u003eindex=%{x}\\u003cbr\\u003eCredit Score=%{y}\\u003cextra\\u003e\\u003c\\u002fextra\\u003e\",\"legendgroup\":\"1\",\"marker\":{\"color\":\"red\",\"symbol\":\"circle\"},\"mode\":\"markers\",\"name\":\"1\",\"orientation\":\"v\",\"showlegend\":true,\"x\":[13,15,17,19,22,23,25,29,32,35,38,39,40,42,43,45,62,66,69,70,71,80,81,83,94,100,102,106,111,119,121,124,127,130,131,133,138,139,150,155,159,162,164,167,177,181,183,185,186,189,190,193,195,197,198,199,201,206,207,209,211,212,223,225,228,231,234,235,236,243,244,262,265,274,277,280,281,285,294,295,304,306,307,310,312,321,325,326,331,335,342,346,363,374,381,386,387,392,395,396,397,401,402,412,419,421,423,431,440,441,442,445,461,466,473,474,479,483,489,490,498,501,503,509,510,517,536,556,557,559,569,571,572,576,577,579,580,581,591,596,606,611,616,617,623,633,641,642,643,644,646,647,648,649,651,652,654,655,657,660,663,664,665,668,671,672,675,676,677,683,684,685,688,692,698,703,708,711,712,713,717,734,735,738,760,761,768,779,780,785,786,787,790,792,794,796,798,799,803,804,815,829,831,833,834,836,840,841,843,851,853,868,872,881,882,883,886,888,890,891,893,894,903,909,912,916,920,922,928,933,938,942,944,953,955,958,960,962,966,968,976,980,984,988,994,996],\"xaxis\":\"x\",\"y\":[700.648,750.4649999999999,550.7799999999999,700.4319999999999,670.626,720.5859999999999,640.712,710.1629999999999,600.761,550.0119999999998,551.4369999999999,651.4739999999999,601.472,591.238,601.322,531.0129999999999,610.9839999999999,761.185,631.35,731.538,741.0039999999999,601.0459999999999,580.2589999999999,550.3749999999999,680.2189999999999,571.327,741.436,540.132,530.833,601.232,730.623,770.705,691.353,770.696,650.481,600.437,690.7619999999998,580.334,591.2710000000001,730.8629999999999,631.578,571.2669999999999,601.463,671.544,691.497,590.701,760.3539999999998,651.1349999999999,740.425,541.266,531.643,750.318,711.1229999999999,710.616,610.5999999999999,651.228,720.6189999999999,581.7379999999999,600.164,750.438,761.1309999999999,741.007,681.41,591.361,590.518,581.555,620.5849999999999,561.413,721.384,580.877,730.302,530.896,690.7559999999999,730.851,640.973,721.66,770.618,720.3159999999999,570.0609999999999,691.1009999999999,671.634,601.688,730.365,770.945,630.759,581.5849999999999,660.53,770.75,530.605,630.705,701.2719999999999,741.568,731.262,580.2409999999999,740.53,660.0559999999999,541.4549999999999,660.755,730.179,681.4879999999999,610.2579999999999,610.8879999999999,670.9889999999999,661.1750000000001,710.973,581.483,530.716,690.9209999999999,561.1999999999999,690.5219999999999,660.38,731.019,670.563,561.779,570.769,690.2579999999999,670.659,700.99,670.869,660.1669999999999,771.731,560.618,570.586,770.207,721.444,560.522,540.8399999999999,740.782,621.305,630.6600000000001,771.647,540.9929999999999,751.0289999999999,730.053,530.881,660.503,711.54,610.8759999999999,561.383,690.8999999999999,671.121,551.0679999999999,600.665,770.441,530.8599999999999,620.5219999999999,550.6899999999999,760.9809999999999,590.452,610.4739999999999,639.9739999999999,750.99,679.8829999999999,771.4910000000001,680.5519999999999,561.422,751.347,531.3670000000001,531.0129999999999,620.7679999999999,561.305,531.016,660.935,691.5419999999999,640.7779999999999,741.643,561.326,600.1129999999999,660.287,680.348,620.1769999999999,690.5939999999999,701.146,681.2479999999999,631.512,729.924,541.314,690.4739999999999,710.0219999999999,591.457,700.6510000000001,771.4490000000001,659.918,581.414,610.2579999999999,540.2279999999998,680.8399999999999,661.292,690.5939999999999,750.4979999999999,760.7379999999999,630.999,740.275,600.38,561.0889999999999,680.423,710.598,660.59,651.6479999999999,680.0809999999999,721.2219999999999,700.4530000000001,691.3709999999999,640.1059999999999,631.5930000000001,700.5129999999999,700.789,550.9689999999999,581.1289999999999,571.045,631.476,641.198,620.2909999999999,731.073,580.4449999999999,740.3349999999999,701.611,740.1819999999999,530.752,730.851,730.8359999999999,750.3389999999999,570.997,750.9299999999998,630.5939999999999,620.7439999999999,730.257,650.9999999999999,601.505,530.7669999999999,540.9419999999999,720.886,650.2739999999999,770.738,601.079,670.548,710.436,730.371,610.555,550.0569999999999,750.543,590.0319999999999,730.7099999999999,771.44,710.52,650.4809999999999],\"yaxis\":\"y\",\"type\":\"scatter\"}],                        {\"template\":{\"data\":{\"histogram2dcontour\":[{\"type\":\"histogram2dcontour\",\"colorbar\":{\"outlinewidth\":0,\"ticks\":\"\"},\"colorscale\":[[0.0,\"#0d0887\"],[0.1111111111111111,\"#46039f\"],[0.2222222222222222,\"#7201a8\"],[0.3333333333333333,\"#9c179e\"],[0.4444444444444444,\"#bd3786\"],[0.5555555555555556,\"#d8576b\"],[0.6666666666666666,\"#ed7953\"],[0.7777777777777778,\"#fb9f3a\"],[0.8888888888888888,\"#fdca26\"],[1.0,\"#f0f921\"]]}],\"choropleth\":[{\"type\":\"choropleth\",\"colorbar\":{\"outlinewidth\":0,\"ticks\":\"\"}}],\"histogram2d\":[{\"type\":\"histogram2d\",\"colorbar\":{\"outlinewidth\":0,\"ticks\":\"\"},\"colorscale\":[[0.0,\"#0d0887\"],[0.1111111111111111,\"#46039f\"],[0.2222222222222222,\"#7201a8\"],[0.3333333333333333,\"#9c179e\"],[0.4444444444444444,\"#bd3786\"],[0.5555555555555556,\"#d8576b\"],[0.6666666666666666,\"#ed7953\"],[0.7777777777777778,\"#fb9f3a\"],[0.8888888888888888,\"#fdca26\"],[1.0,\"#f0f921\"]]}],\"heatmap\":[{\"type\":\"heatmap\",\"colorbar\":{\"outlinewidth\":0,\"ticks\":\"\"},\"colorscale\":[[0.0,\"#0d0887\"],[0.1111111111111111,\"#46039f\"],[0.2222222222222222,\"#7201a8\"],[0.3333333333333333,\"#9c179e\"],[0.4444444444444444,\"#bd3786\"],[0.5555555555555556,\"#d8576b\"],[0.6666666666666666,\"#ed7953\"],[0.7777777777777778,\"#fb9f3a\"],[0.8888888888888888,\"#fdca26\"],[1.0,\"#f0f921\"]]}],\"heatmapgl\":[{\"type\":\"heatmapgl\",\"colorbar\":{\"outlinewidth\":0,\"ticks\":\"\"},\"colorscale\":[[0.0,\"#0d0887\"],[0.1111111111111111,\"#46039f\"],[0.2222222222222222,\"#7201a8\"],[0.3333333333333333,\"#9c179e\"],[0.4444444444444444,\"#bd3786\"],[0.5555555555555556,\"#d8576b\"],[0.6666666666666666,\"#ed7953\"],[0.7777777777777778,\"#fb9f3a\"],[0.8888888888888888,\"#fdca26\"],[1.0,\"#f0f921\"]]}],\"contourcarpet\":[{\"type\":\"contourcarpet\",\"colorbar\":{\"outlinewidth\":0,\"ticks\":\"\"}}],\"contour\":[{\"type\":\"contour\",\"colorbar\":{\"outlinewidth\":0,\"ticks\":\"\"},\"colorscale\":[[0.0,\"#0d0887\"],[0.1111111111111111,\"#46039f\"],[0.2222222222222222,\"#7201a8\"],[0.3333333333333333,\"#9c179e\"],[0.4444444444444444,\"#bd3786\"],[0.5555555555555556,\"#d8576b\"],[0.6666666666666666,\"#ed7953\"],[0.7777777777777778,\"#fb9f3a\"],[0.8888888888888888,\"#fdca26\"],[1.0,\"#f0f921\"]]}],\"surface\":[{\"type\":\"surface\",\"colorbar\":{\"outlinewidth\":0,\"ticks\":\"\"},\"colorscale\":[[0.0,\"#0d0887\"],[0.1111111111111111,\"#46039f\"],[0.2222222222222222,\"#7201a8\"],[0.3333333333333333,\"#9c179e\"],[0.4444444444444444,\"#bd3786\"],[0.5555555555555556,\"#d8576b\"],[0.6666666666666666,\"#ed7953\"],[0.7777777777777778,\"#fb9f3a\"],[0.8888888888888888,\"#fdca26\"],[1.0,\"#f0f921\"]]}],\"mesh3d\":[{\"type\":\"mesh3d\",\"colorbar\":{\"outlinewidth\":0,\"ticks\":\"\"}}],\"scatter\":[{\"fillpattern\":{\"fillmode\":\"overlay\",\"size\":10,\"solidity\":0.2},\"type\":\"scatter\"}],\"parcoords\":[{\"type\":\"parcoords\",\"line\":{\"colorbar\":{\"outlinewidth\":0,\"ticks\":\"\"}}}],\"scatterpolargl\":[{\"type\":\"scatterpolargl\",\"marker\":{\"colorbar\":{\"outlinewidth\":0,\"ticks\":\"\"}}}],\"bar\":[{\"error_x\":{\"color\":\"#2a3f5f\"},\"error_y\":{\"color\":\"#2a3f5f\"},\"marker\":{\"line\":{\"color\":\"white\",\"width\":0.5},\"pattern\":{\"fillmode\":\"overlay\",\"size\":10,\"solidity\":0.2}},\"type\":\"bar\"}],\"scattergeo\":[{\"type\":\"scattergeo\",\"marker\":{\"colorbar\":{\"outlinewidth\":0,\"ticks\":\"\"}}}],\"scatterpolar\":[{\"type\":\"scatterpolar\",\"marker\":{\"colorbar\":{\"outlinewidth\":0,\"ticks\":\"\"}}}],\"histogram\":[{\"marker\":{\"pattern\":{\"fillmode\":\"overlay\",\"size\":10,\"solidity\":0.2}},\"type\":\"histogram\"}],\"scattergl\":[{\"type\":\"scattergl\",\"marker\":{\"colorbar\":{\"outlinewidth\":0,\"ticks\":\"\"}}}],\"scatter3d\":[{\"type\":\"scatter3d\",\"line\":{\"colorbar\":{\"outlinewidth\":0,\"ticks\":\"\"}},\"marker\":{\"colorbar\":{\"outlinewidth\":0,\"ticks\":\"\"}}}],\"scattermapbox\":[{\"type\":\"scattermapbox\",\"marker\":{\"colorbar\":{\"outlinewidth\":0,\"ticks\":\"\"}}}],\"scatterternary\":[{\"type\":\"scatterternary\",\"marker\":{\"colorbar\":{\"outlinewidth\":0,\"ticks\":\"\"}}}],\"scattercarpet\":[{\"type\":\"scattercarpet\",\"marker\":{\"colorbar\":{\"outlinewidth\":0,\"ticks\":\"\"}}}],\"carpet\":[{\"aaxis\":{\"endlinecolor\":\"#2a3f5f\",\"gridcolor\":\"#C8D4E3\",\"linecolor\":\"#C8D4E3\",\"minorgridcolor\":\"#C8D4E3\",\"startlinecolor\":\"#2a3f5f\"},\"baxis\":{\"endlinecolor\":\"#2a3f5f\",\"gridcolor\":\"#C8D4E3\",\"linecolor\":\"#C8D4E3\",\"minorgridcolor\":\"#C8D4E3\",\"startlinecolor\":\"#2a3f5f\"},\"type\":\"carpet\"}],\"table\":[{\"cells\":{\"fill\":{\"color\":\"#EBF0F8\"},\"line\":{\"color\":\"white\"}},\"header\":{\"fill\":{\"color\":\"#C8D4E3\"},\"line\":{\"color\":\"white\"}},\"type\":\"table\"}],\"barpolar\":[{\"marker\":{\"line\":{\"color\":\"white\",\"width\":0.5},\"pattern\":{\"fillmode\":\"overlay\",\"size\":10,\"solidity\":0.2}},\"type\":\"barpolar\"}],\"pie\":[{\"automargin\":true,\"type\":\"pie\"}]},\"layout\":{\"autotypenumbers\":\"strict\",\"colorway\":[\"#636efa\",\"#EF553B\",\"#00cc96\",\"#ab63fa\",\"#FFA15A\",\"#19d3f3\",\"#FF6692\",\"#B6E880\",\"#FF97FF\",\"#FECB52\"],\"font\":{\"color\":\"#2a3f5f\"},\"hovermode\":\"closest\",\"hoverlabel\":{\"align\":\"left\"},\"paper_bgcolor\":\"white\",\"plot_bgcolor\":\"white\",\"polar\":{\"bgcolor\":\"white\",\"angularaxis\":{\"gridcolor\":\"#EBF0F8\",\"linecolor\":\"#EBF0F8\",\"ticks\":\"\"},\"radialaxis\":{\"gridcolor\":\"#EBF0F8\",\"linecolor\":\"#EBF0F8\",\"ticks\":\"\"}},\"ternary\":{\"bgcolor\":\"white\",\"aaxis\":{\"gridcolor\":\"#DFE8F3\",\"linecolor\":\"#A2B1C6\",\"ticks\":\"\"},\"baxis\":{\"gridcolor\":\"#DFE8F3\",\"linecolor\":\"#A2B1C6\",\"ticks\":\"\"},\"caxis\":{\"gridcolor\":\"#DFE8F3\",\"linecolor\":\"#A2B1C6\",\"ticks\":\"\"}},\"coloraxis\":{\"colorbar\":{\"outlinewidth\":0,\"ticks\":\"\"}},\"colorscale\":{\"sequential\":[[0.0,\"#0d0887\"],[0.1111111111111111,\"#46039f\"],[0.2222222222222222,\"#7201a8\"],[0.3333333333333333,\"#9c179e\"],[0.4444444444444444,\"#bd3786\"],[0.5555555555555556,\"#d8576b\"],[0.6666666666666666,\"#ed7953\"],[0.7777777777777778,\"#fb9f3a\"],[0.8888888888888888,\"#fdca26\"],[1.0,\"#f0f921\"]],\"sequentialminus\":[[0.0,\"#0d0887\"],[0.1111111111111111,\"#46039f\"],[0.2222222222222222,\"#7201a8\"],[0.3333333333333333,\"#9c179e\"],[0.4444444444444444,\"#bd3786\"],[0.5555555555555556,\"#d8576b\"],[0.6666666666666666,\"#ed7953\"],[0.7777777777777778,\"#fb9f3a\"],[0.8888888888888888,\"#fdca26\"],[1.0,\"#f0f921\"]],\"diverging\":[[0,\"#8e0152\"],[0.1,\"#c51b7d\"],[0.2,\"#de77ae\"],[0.3,\"#f1b6da\"],[0.4,\"#fde0ef\"],[0.5,\"#f7f7f7\"],[0.6,\"#e6f5d0\"],[0.7,\"#b8e186\"],[0.8,\"#7fbc41\"],[0.9,\"#4d9221\"],[1,\"#276419\"]]},\"xaxis\":{\"gridcolor\":\"#EBF0F8\",\"linecolor\":\"#EBF0F8\",\"ticks\":\"\",\"title\":{\"standoff\":15},\"zerolinecolor\":\"#EBF0F8\",\"automargin\":true,\"zerolinewidth\":2},\"yaxis\":{\"gridcolor\":\"#EBF0F8\",\"linecolor\":\"#EBF0F8\",\"ticks\":\"\",\"title\":{\"standoff\":15},\"zerolinecolor\":\"#EBF0F8\",\"automargin\":true,\"zerolinewidth\":2},\"scene\":{\"xaxis\":{\"backgroundcolor\":\"white\",\"gridcolor\":\"#DFE8F3\",\"linecolor\":\"#EBF0F8\",\"showbackground\":true,\"ticks\":\"\",\"zerolinecolor\":\"#EBF0F8\",\"gridwidth\":2},\"yaxis\":{\"backgroundcolor\":\"white\",\"gridcolor\":\"#DFE8F3\",\"linecolor\":\"#EBF0F8\",\"showbackground\":true,\"ticks\":\"\",\"zerolinecolor\":\"#EBF0F8\",\"gridwidth\":2},\"zaxis\":{\"backgroundcolor\":\"white\",\"gridcolor\":\"#DFE8F3\",\"linecolor\":\"#EBF0F8\",\"showbackground\":true,\"ticks\":\"\",\"zerolinecolor\":\"#EBF0F8\",\"gridwidth\":2}},\"shapedefaults\":{\"line\":{\"color\":\"#2a3f5f\"}},\"annotationdefaults\":{\"arrowcolor\":\"#2a3f5f\",\"arrowhead\":0,\"arrowwidth\":1},\"geo\":{\"bgcolor\":\"white\",\"landcolor\":\"white\",\"subunitcolor\":\"#C8D4E3\",\"showland\":true,\"showlakes\":true,\"lakecolor\":\"white\"},\"title\":{\"x\":0.05},\"mapbox\":{\"style\":\"light\"}}},\"xaxis\":{\"anchor\":\"y\",\"domain\":[0.0,1.0],\"title\":{\"text\":\"Customer Index\"}},\"yaxis\":{\"anchor\":\"x\",\"domain\":[0.0,1.0],\"title\":{\"text\":\"Credit Score\"}},\"legend\":{\"title\":{\"text\":\"Segment\"},\"tracegroupgap\":0},\"margin\":{\"t\":60},\"title\":{\"text\":\"Customer Segmentation based on Credit Scores\"}},                        {\"responsive\": true}                    ).then(function(){\n",
              "                            \n",
              "var gd = document.getElementById('46c7e102-b990-45ca-8e32-3246be230c95');\n",
              "var x = new MutationObserver(function (mutations, observer) {{\n",
              "        var display = window.getComputedStyle(gd).display;\n",
              "        if (!display || display === 'none') {{\n",
              "            console.log([gd, 'removed!']);\n",
              "            Plotly.purge(gd);\n",
              "            observer.disconnect();\n",
              "        }}\n",
              "}});\n",
              "\n",
              "// Listen for the removal of the full notebook cells\n",
              "var notebookContainer = gd.closest('#notebook-container');\n",
              "if (notebookContainer) {{\n",
              "    x.observe(notebookContainer, {childList: true});\n",
              "}}\n",
              "\n",
              "// Listen for the clearing of the current output cell\n",
              "var outputEl = gd.closest('.output');\n",
              "if (outputEl) {{\n",
              "    x.observe(outputEl, {childList: true});\n",
              "}}\n",
              "\n",
              "                        })                };                            </script>        </div>\n",
              "</body>\n",
              "</html>"
            ]
          },
          "metadata": {}
        }
      ]
    },
    {
      "cell_type": "code",
      "source": [
        "data['Segment'] = data['Segment'].map({2: 'Very Low',\n",
        "                                       0: 'Low',\n",
        "                                       1: 'Good',\n",
        "                                       3: \"Excellent\"})\n",
        "\n",
        "# Convert the 'Segment' column to category data type\n",
        "data['Segment'] = data['Segment'].astype('category')\n",
        "\n",
        "# Visualize the segments using Plotly\n",
        "fig = px.scatter(data, x=data.index, y='Credit Score', color='Segment',\n",
        "                 color_discrete_sequence=['green', 'blue', 'yellow', 'red'])\n",
        "fig.update_layout(\n",
        "    xaxis_title='Customer Index',\n",
        "    yaxis_title='Credit Score',\n",
        "    title='Customer Segmentation based on Credit Scores'\n",
        ")\n",
        "fig.show()"
      ],
      "metadata": {
        "colab": {
          "base_uri": "https://localhost:8080/",
          "height": 542
        },
        "id": "Qh7M0oWSsct9",
        "outputId": "6ddba348-c7ac-4be1-a36d-b70f17a29360"
      },
      "execution_count": 34,
      "outputs": [
        {
          "output_type": "display_data",
          "data": {
            "text/html": [
              "<html>\n",
              "<head><meta charset=\"utf-8\" /></head>\n",
              "<body>\n",
              "    <div>            <script src=\"https://cdnjs.cloudflare.com/ajax/libs/mathjax/2.7.5/MathJax.js?config=TeX-AMS-MML_SVG\"></script><script type=\"text/javascript\">if (window.MathJax && window.MathJax.Hub && window.MathJax.Hub.Config) {window.MathJax.Hub.Config({SVG: {font: \"STIX-Web\"}});}</script>                <script type=\"text/javascript\">window.PlotlyConfig = {MathJaxConfig: 'local'};</script>\n",
              "        <script charset=\"utf-8\" src=\"https://cdn.plot.ly/plotly-2.24.1.min.js\"></script>                <div id=\"ec801070-37e8-4315-bd47-909d2350606b\" class=\"plotly-graph-div\" style=\"height:525px; width:100%;\"></div>            <script type=\"text/javascript\">                                    window.PLOTLYENV=window.PLOTLYENV || {};                                    if (document.getElementById(\"ec801070-37e8-4315-bd47-909d2350606b\")) {                    Plotly.newPlot(                        \"ec801070-37e8-4315-bd47-909d2350606b\",                        [{\"hovertemplate\":\"Segment=Excellent\\u003cbr\\u003eindex=%{x}\\u003cbr\\u003eCredit Score=%{y}\\u003cextra\\u003e\\u003c\\u002fextra\\u003e\",\"legendgroup\":\"Excellent\",\"marker\":{\"color\":\"green\",\"symbol\":\"circle\"},\"mode\":\"markers\",\"name\":\"Excellent\",\"orientation\":\"v\",\"showlegend\":true,\"x\":[0,1,2,5,6,14,26,41,48,60,63,64,67,72,73,74,75,79,97,103,104,108,117,118,125,129,135,140,144,147,148,149,153,154,156,169,171,173,175,178,192,200,203,213,220,221,224,233,240,242,247,249,250,253,255,264,278,284,286,288,292,298,300,302,308,311,313,314,316,317,322,328,332,340,341,345,350,351,352,355,356,357,358,362,364,365,372,373,378,380,383,394,398,407,409,416,418,420,426,428,433,439,444,447,451,458,464,467,468,470,477,481,484,488,491,492,494,496,504,506,507,508,513,526,529,533,538,543,544,545,546,547,548,549,551,552,553,555,560,563,564,566,568,583,587,589,594,598,604,608,612,614,619,620,622,626,637,639,640,661,667,669,681,689,690,695,697,699,701,702,721,722,730,737,744,746,749,752,753,755,756,763,765,766,769,774,782,788,791,801,802,806,807,812,813,819,821,822,823,842,846,855,856,858,859,860,869,874,875,880,895,898,899,901,913,921,926,939,940,945,948,949,957,970,972,985,987,991,992,997],\"xaxis\":\"x\",\"y\":[940.1159999999999,831.2599999999999,970.8159999999999,820.2819999999999,980.2459999999999,831.0499999999998,831.4939999999999,880.0949999999999,840.327,921.444,870.074,790.7299999999999,801.487,881.1990000000001,981.0859999999998,961.0079999999999,801.259,971.299,1001.747,981.545,850.679,890.5039999999999,820.255,801.235,820.7679999999999,1001.441,801.2620000000001,820.3119999999999,950.503,901.281,911.251,910.7049999999999,811.325,921.4979999999999,880.185,841.2990000000001,920.718,941.2829999999999,819.9459999999999,820.669,861.0299999999999,940.458,800.4730000000001,810.563,1001.1139999999999,900.588,861.2939999999999,880.542,860.5469999999999,980.4889999999998,900.3479999999998,990.292,950.413,811.472,911.4369999999999,1000.7869999999999,981.6589999999999,880.7429999999999,931.0509999999999,870.5450000000001,841.587,930.3279999999999,831.1279999999999,870.308,820.423,830.8129999999999,1001.309,921.372,870.8359999999999,910.5459999999999,930.4689999999999,920.1239999999999,990.8829999999999,911.0919999999999,960.8519999999999,870.8629999999999,901.0229999999999,941.3879999999999,900.399,821.2719999999999,981.1729999999999,981.401,890.8129999999999,951.016,780.6039999999999,921.3299999999999,961.2539999999999,971.0619999999999,861.183,810.341,1001.4799999999999,900.1559999999998,890.612,920.8559999999999,861.4859999999999,801.43,961.1759999999999,780.7779999999999,930.1479999999999,881.274,920.1719999999999,861.324,930.5259999999998,931.0149999999999,980.9479999999999,800.605,991.024,781.3929999999999,940.0619999999999,891.284,891.3979999999999,780.643,861.399,1000.1329999999999,840.906,981.3589999999999,860.2409999999999,901.2539999999999,781.324,840.615,819.853,891.467,881.451,981.0919999999999,881.214,1000.1179999999999,801.28,971.149,921.27,940.8299999999998,781.066,881.439,811.5799999999999,931.0839999999998,959.8739999999999,901.14,810.188,821.161,819.9819999999999,900.591,900.0629999999999,961.4699999999999,1000.8589999999999,970.2759999999998,901.3259999999999,920.0369999999999,800.35,970.2669999999998,850.943,951.298,921.255,981.0799999999998,800.9259999999999,890.6959999999999,980.6059999999999,1000.9849999999999,870.2539999999999,820.708,981.1219999999998,960.2399999999999,871.22,940.419,940.7669999999999,830.5279999999999,1000.847,891.068,970.8219999999999,861.6719999999999,830.2009999999999,920.6279999999999,780.3369999999999,881.211,890.8789999999999,911.2599999999999,840.624,861.5129999999999,800.446,800.896,940.5029999999999,921.3119999999999,960.093,931.108,901.155,860.2889999999999,951.0129999999999,970.7799999999999,981.7789999999999,931.2579999999999,950.566,791.0389999999999,880.554,891.3589999999999,861.543,950.107,971.401,950.992,991.0749999999999,980.7499999999999,971.0469999999999,930.547,880.668,990.358,900.588,951.472,819.8679999999999,900.5999999999999,991.117,891.2869999999999,850.3609999999999,960.5519999999999,990.8889999999999,800.197,841.77,930.466,921.108,841.359,891.257,980.6419999999999,1001.0539999999999,920.1389999999999,950.542,850.697,811.439,840.42,791.3629999999999,831.0439999999999,920.259,850.451,980.747,921.3539999999999],\"yaxis\":\"y\",\"type\":\"scatter\"},{\"hovertemplate\":\"Segment=Low\\u003cbr\\u003eindex=%{x}\\u003cbr\\u003eCredit Score=%{y}\\u003cextra\\u003e\\u003c\\u002fextra\\u003e\",\"legendgroup\":\"Low\",\"marker\":{\"color\":\"blue\",\"symbol\":\"circle\"},\"mode\":\"markers\",\"name\":\"Low\",\"orientation\":\"v\",\"showlegend\":true,\"x\":[3,4,7,8,9,12,16,20,21,24,34,36,37,44,49,51,52,54,55,58,59,68,82,84,86,87,88,89,90,91,92,95,101,107,115,116,120,123,132,134,137,141,143,145,146,157,160,161,163,165,170,176,180,182,191,208,215,217,218,226,229,230,237,241,246,251,257,259,260,263,268,269,270,271,279,287,289,291,293,296,301,303,305,309,315,320,323,329,330,333,334,336,338,343,349,353,354,359,360,368,371,376,377,385,388,391,393,399,403,404,405,406,408,411,415,417,429,430,432,434,443,446,450,456,459,460,469,471,475,478,480,482,485,487,497,499,500,514,515,516,518,519,520,522,527,528,530,532,535,537,539,554,561,562,565,567,570,573,574,584,588,590,593,599,600,601,602,603,605,607,609,610,615,618,629,630,632,638,656,659,678,679,686,693,694,696,700,705,715,718,723,724,725,726,727,728,731,736,740,741,742,745,748,750,751,754,757,762,770,771,772,775,781,789,793,808,809,810,816,818,825,826,827,828,832,838,845,847,850,852,854,861,862,863,865,870,873,878,885,889,892,896,902,906,907,910,911,917,918,919,923,925,931,932,934,941,943,947,950,952,954,961,963,967,971,977,978,979,981,983,989,995,998,999],\"xaxis\":\"x\",\"y\":[480.186,290.397,501.1979999999999,280.57,481.36799999999994,390.779,271.401,510.16299999999995,270.05699999999996,300.916,330.02399999999994,421.785,371.42,300.913,430.98499999999996,271.08299999999997,391.57399999999996,461.133,410.627,510.637,340.80999999999995,391.45099999999996,421.374,311.22900000000004,441.582,481.383,360.625,391.29499999999996,461.487,281.092,331.425,350.33599999999996,511.3,441.555,410.3059999999999,390.82399999999996,470.462,431.42299999999994,490.41099999999994,300.93399999999997,470.642,491.1219999999999,441.35699999999997,491.61099999999993,400.561,441.297,449.9659999999999,330.729,431.387,381.472,310.644,501.29999999999995,340.88499999999993,280.633,511.37199999999996,290.676,411.08,460.88399999999996,500.7029999999999,390.8419999999999,490.32699999999994,331.03799999999995,271.032,410.495,320.395,400.438,300.385,340.38399999999996,460.18799999999993,510.544,500.9789999999999,400.885,381.493,380.515,491.0739999999999,491.19999999999993,480.35099999999994,300.334,501.09299999999996,500.0399999999999,420.72,521.2230000000001,470.96,271.18799999999993,421.137,281.11899999999997,321.514,461.05499999999995,340.438,399.92799999999994,311.14799999999997,510.742,430.90099999999995,411.38,481.09799999999996,401.284,270.85499999999996,321.265,490.39599999999996,421.404,370.61899999999997,441.39599999999996,270.49199999999996,290.24399999999997,320.815,491.06199999999995,300.11199999999997,271.443,400.006,300.865,461.175,480.618,321.16599999999994,430.424,450.6619999999999,330.26099999999997,450.2179999999999,450.4069999999999,331.14,410.27299999999997,450.21199999999993,480.2339999999999,411.58399999999995,481.317,280.735,391.445,371.501,410.32699999999994,311.28000000000003,480.246,400.633,520.1999999999999,520.134,400.063,421.176,301.627,431.32099999999997,371.465,320.13399999999996,301.38399999999996,381.07,401.164,321.64,280.885,321.27099999999996,421.095,430.25899999999996,301.45,390.215,350.46799999999996,361.04499999999996,420.174,411.24499999999995,470.519,511.426,390.215,440.85299999999995,480.657,380.995,320.08599999999996,290.91299999999995,371.165,451.2319999999999,330.91799999999995,441.702,310.368,410.0059999999999,400.756,381.331,321.52299999999997,300.53799999999995,321.59499999999997,351.25399999999996,301.186,420.618,380.986,351.161,341.539,441.207,330.70799999999997,390.77599999999995,391.544,410.48299999999995,400.74999999999994,420.438,481.64099999999996,350.819,430.02199999999993,421.281,391.38199999999995,301.135,371.375,471.029,371.57,420.76500000000004,360.9309999999999,450.8929999999999,490.82199999999995,500.1209999999999,271.26899999999995,320.635,500.40899999999993,430.697,510.90099999999995,270.921,311.379,281.71,481.335,360.97599999999994,270.47099999999995,370.301,461.19599999999997,280.981,500.328,301.009,481.38899999999995,451.08199999999994,400.123,420.936,470.591,350.72,290.589,441.108,351.587,321.415,330.414,430.32199999999995,280.15,440.496,450.8809999999999,460.07699999999994,281.236,480.49199999999996,420.38399999999996,390.07699999999994,391.481,400.852,270.2939999999999,521.0999999999999,441.435,490.7319999999999,350.498,510.70300000000003,399.88599999999997,270.21299999999997,510.352,351.116,310.51800000000003,430.54699999999997,461.01599999999996,510.48699999999997,280.867,280.74399999999997,480.17699999999996,440.991,521.091,340.174,301.594,490.1859999999999,451.4479999999999,441.738,289.98599999999993,329.991,491.19399999999996,461.34,361.429,351.023,321.481,330.582,451.10599999999994,460.74,451.1719999999999,400.246,360.60099999999994],\"yaxis\":\"y\",\"type\":\"scatter\"},{\"hovertemplate\":\"Segment=Very Low\\u003cbr\\u003eindex=%{x}\\u003cbr\\u003eCredit Score=%{y}\\u003cextra\\u003e\\u003c\\u002fextra\\u003e\",\"legendgroup\":\"Very Low\",\"marker\":{\"color\":\"yellow\",\"symbol\":\"circle\"},\"mode\":\"markers\",\"name\":\"Very Low\",\"orientation\":\"v\",\"showlegend\":true,\"x\":[10,11,18,27,28,30,31,33,46,47,50,53,56,57,61,65,76,77,78,85,93,96,98,99,105,109,110,112,113,114,122,126,128,136,142,151,152,158,166,168,172,174,179,184,187,188,194,196,202,204,205,210,214,216,219,222,227,232,238,239,245,248,252,254,256,258,261,266,267,272,273,275,276,282,283,290,297,299,318,319,324,327,337,339,344,347,348,361,366,367,369,370,375,379,382,384,389,390,400,410,413,414,422,424,425,427,435,436,437,438,448,449,452,453,454,455,457,462,463,465,472,476,486,493,495,502,505,511,512,521,523,524,525,531,534,540,541,542,550,558,575,578,582,585,586,592,595,597,613,621,624,625,627,628,631,634,635,636,645,650,653,658,662,666,670,673,674,680,682,687,691,704,706,707,709,710,714,716,719,720,729,732,733,739,743,747,758,759,764,767,773,776,777,778,783,784,795,797,800,805,811,814,817,820,824,830,835,837,839,844,848,849,857,864,866,867,871,876,877,879,884,887,897,900,904,905,908,914,915,924,927,929,930,935,936,937,946,951,956,959,964,965,969,973,974,975,982,986,990,993],\"xaxis\":\"x\",\"y\":[201.13699999999997,250.50299999999996,130.552,190.672,60.422999999999995,50.693,30.463999999999995,80.649,1.0139999999999998,30.932,80.016,151.48,231.40499999999997,100.63499999999999,160.91299999999998,120.58799999999998,150.38799999999998,181.088,0.831,180.77299999999997,81.066,240.17,180.34999999999997,20.576999999999998,161.522,30.238999999999997,60.48,50.501,1.299,21.162,50.495,230.658,211.43099999999998,101.29799999999999,231.42899999999997,90.64599999999999,70.429,180.33499999999998,141.149,190.843,100.938,120.36599999999999,111.106,211.062,170.854,150.50799999999998,190.576,111.50499999999998,210.68699999999998,1.4969999999999999,121.08299999999998,170.27800000000002,231.039,170.614,251.38499999999996,190.825,50.020999999999994,230.94299999999998,150.66099999999997,71.743,201.08599999999998,150.952,261.314,221.16499999999996,260.174,169.903,0.372,70.59700000000001,170.83,170.29000000000002,90.277,189.934,251.29199999999997,181.41799999999998,170.29,211.782,210.885,181.52299999999997,211.728,41.364,151.28199999999998,261.04999999999995,20.475,120.43499999999999,171.04000000000002,70.615,41.025,130.879,240.67099999999996,210.43800000000002,171.358,41.313,221.012,171.277,20.589000000000002,51.175999999999995,200.38400000000001,110.353,250.56299999999996,100.935,130.201,190.078,130.606,91.53399999999998,40.722,140.666,41.457,90.283,71.737,241.21699999999996,100.989,170.98899999999998,190.207,20.985,180.26899999999998,61.236,20.378999999999998,180.146,31.288999999999998,200.59099999999998,50.315,41.445,190.47099999999998,180.74599999999998,251.34899999999996,110.69799999999998,30.607999999999997,110.76699999999998,11.161999999999999,231.057,111.68799999999999,91.34799999999998,70.849,130.96,181.11199999999997,41.583,151.22199999999998,190.93299999999996,51.193999999999996,80.68499999999999,81.447,211.53,150.62199999999999,30.250999999999998,121.371,250.908,190.654,40.488,111.14799999999998,231.34199999999998,250.94099999999997,150.23499999999999,180.10399999999998,170.653,160.514,201.19099999999997,180.45499999999998,1.65,51.074,240.09199999999998,130.999,201.40099999999998,200.873,211.34400000000002,31.147999999999996,130.972,161.16799999999998,190.801,241.41799999999998,150.064,0.44099999999999995,120.03899999999999,70.186,71.38,81.48,230.736,51.035,241.33699999999996,160.59199999999998,190.68699999999998,261.116,170.43699999999998,241.10899999999995,221.033,240.92,0.16499999999999998,180.51499999999996,250.54799999999997,91.29699999999998,110.98599999999999,10.177999999999999,170.15200000000002,240.02299999999997,100.872,110.23599999999999,0.9239999999999999,121.40699999999998,150.54099999999997,50.33,120.83099999999999,11.129,140.951,101.247,40.572,251.34599999999998,110.374,201.404,60.711,220.84099999999998,9.982999999999999,141.464,100.00800000000001,200.252,40.56,120.80999999999999,40.827,110.30799999999999,251.18099999999998,190.91199999999998,100.581,241.35499999999996,120.18599999999999,230.328,31.156999999999996,81.27,230.85899999999998,250.74299999999997,50.263999999999996,150.42399999999998,60.065999999999995,180.32,210.60899999999998,10.808,200.768,1.197,180.71299999999997,260.03,200.753,40.275,91.015,70.87299999999999,101.32199999999999,161.17399999999998,180.296,100.01400000000001,231.063,40.383,30.322999999999997,91.018,40.98],\"yaxis\":\"y\",\"type\":\"scatter\"},{\"hovertemplate\":\"Segment=Good\\u003cbr\\u003eindex=%{x}\\u003cbr\\u003eCredit Score=%{y}\\u003cextra\\u003e\\u003c\\u002fextra\\u003e\",\"legendgroup\":\"Good\",\"marker\":{\"color\":\"red\",\"symbol\":\"circle\"},\"mode\":\"markers\",\"name\":\"Good\",\"orientation\":\"v\",\"showlegend\":true,\"x\":[13,15,17,19,22,23,25,29,32,35,38,39,40,42,43,45,62,66,69,70,71,80,81,83,94,100,102,106,111,119,121,124,127,130,131,133,138,139,150,155,159,162,164,167,177,181,183,185,186,189,190,193,195,197,198,199,201,206,207,209,211,212,223,225,228,231,234,235,236,243,244,262,265,274,277,280,281,285,294,295,304,306,307,310,312,321,325,326,331,335,342,346,363,374,381,386,387,392,395,396,397,401,402,412,419,421,423,431,440,441,442,445,461,466,473,474,479,483,489,490,498,501,503,509,510,517,536,556,557,559,569,571,572,576,577,579,580,581,591,596,606,611,616,617,623,633,641,642,643,644,646,647,648,649,651,652,654,655,657,660,663,664,665,668,671,672,675,676,677,683,684,685,688,692,698,703,708,711,712,713,717,734,735,738,760,761,768,779,780,785,786,787,790,792,794,796,798,799,803,804,815,829,831,833,834,836,840,841,843,851,853,868,872,881,882,883,886,888,890,891,893,894,903,909,912,916,920,922,928,933,938,942,944,953,955,958,960,962,966,968,976,980,984,988,994,996],\"xaxis\":\"x\",\"y\":[700.648,750.4649999999999,550.7799999999999,700.4319999999999,670.626,720.5859999999999,640.712,710.1629999999999,600.761,550.0119999999998,551.4369999999999,651.4739999999999,601.472,591.238,601.322,531.0129999999999,610.9839999999999,761.185,631.35,731.538,741.0039999999999,601.0459999999999,580.2589999999999,550.3749999999999,680.2189999999999,571.327,741.436,540.132,530.833,601.232,730.623,770.705,691.353,770.696,650.481,600.437,690.7619999999998,580.334,591.2710000000001,730.8629999999999,631.578,571.2669999999999,601.463,671.544,691.497,590.701,760.3539999999998,651.1349999999999,740.425,541.266,531.643,750.318,711.1229999999999,710.616,610.5999999999999,651.228,720.6189999999999,581.7379999999999,600.164,750.438,761.1309999999999,741.007,681.41,591.361,590.518,581.555,620.5849999999999,561.413,721.384,580.877,730.302,530.896,690.7559999999999,730.851,640.973,721.66,770.618,720.3159999999999,570.0609999999999,691.1009999999999,671.634,601.688,730.365,770.945,630.759,581.5849999999999,660.53,770.75,530.605,630.705,701.2719999999999,741.568,731.262,580.2409999999999,740.53,660.0559999999999,541.4549999999999,660.755,730.179,681.4879999999999,610.2579999999999,610.8879999999999,670.9889999999999,661.1750000000001,710.973,581.483,530.716,690.9209999999999,561.1999999999999,690.5219999999999,660.38,731.019,670.563,561.779,570.769,690.2579999999999,670.659,700.99,670.869,660.1669999999999,771.731,560.618,570.586,770.207,721.444,560.522,540.8399999999999,740.782,621.305,630.6600000000001,771.647,540.9929999999999,751.0289999999999,730.053,530.881,660.503,711.54,610.8759999999999,561.383,690.8999999999999,671.121,551.0679999999999,600.665,770.441,530.8599999999999,620.5219999999999,550.6899999999999,760.9809999999999,590.452,610.4739999999999,639.9739999999999,750.99,679.8829999999999,771.4910000000001,680.5519999999999,561.422,751.347,531.3670000000001,531.0129999999999,620.7679999999999,561.305,531.016,660.935,691.5419999999999,640.7779999999999,741.643,561.326,600.1129999999999,660.287,680.348,620.1769999999999,690.5939999999999,701.146,681.2479999999999,631.512,729.924,541.314,690.4739999999999,710.0219999999999,591.457,700.6510000000001,771.4490000000001,659.918,581.414,610.2579999999999,540.2279999999998,680.8399999999999,661.292,690.5939999999999,750.4979999999999,760.7379999999999,630.999,740.275,600.38,561.0889999999999,680.423,710.598,660.59,651.6479999999999,680.0809999999999,721.2219999999999,700.4530000000001,691.3709999999999,640.1059999999999,631.5930000000001,700.5129999999999,700.789,550.9689999999999,581.1289999999999,571.045,631.476,641.198,620.2909999999999,731.073,580.4449999999999,740.3349999999999,701.611,740.1819999999999,530.752,730.851,730.8359999999999,750.3389999999999,570.997,750.9299999999998,630.5939999999999,620.7439999999999,730.257,650.9999999999999,601.505,530.7669999999999,540.9419999999999,720.886,650.2739999999999,770.738,601.079,670.548,710.436,730.371,610.555,550.0569999999999,750.543,590.0319999999999,730.7099999999999,771.44,710.52,650.4809999999999],\"yaxis\":\"y\",\"type\":\"scatter\"}],                        {\"template\":{\"data\":{\"histogram2dcontour\":[{\"type\":\"histogram2dcontour\",\"colorbar\":{\"outlinewidth\":0,\"ticks\":\"\"},\"colorscale\":[[0.0,\"#0d0887\"],[0.1111111111111111,\"#46039f\"],[0.2222222222222222,\"#7201a8\"],[0.3333333333333333,\"#9c179e\"],[0.4444444444444444,\"#bd3786\"],[0.5555555555555556,\"#d8576b\"],[0.6666666666666666,\"#ed7953\"],[0.7777777777777778,\"#fb9f3a\"],[0.8888888888888888,\"#fdca26\"],[1.0,\"#f0f921\"]]}],\"choropleth\":[{\"type\":\"choropleth\",\"colorbar\":{\"outlinewidth\":0,\"ticks\":\"\"}}],\"histogram2d\":[{\"type\":\"histogram2d\",\"colorbar\":{\"outlinewidth\":0,\"ticks\":\"\"},\"colorscale\":[[0.0,\"#0d0887\"],[0.1111111111111111,\"#46039f\"],[0.2222222222222222,\"#7201a8\"],[0.3333333333333333,\"#9c179e\"],[0.4444444444444444,\"#bd3786\"],[0.5555555555555556,\"#d8576b\"],[0.6666666666666666,\"#ed7953\"],[0.7777777777777778,\"#fb9f3a\"],[0.8888888888888888,\"#fdca26\"],[1.0,\"#f0f921\"]]}],\"heatmap\":[{\"type\":\"heatmap\",\"colorbar\":{\"outlinewidth\":0,\"ticks\":\"\"},\"colorscale\":[[0.0,\"#0d0887\"],[0.1111111111111111,\"#46039f\"],[0.2222222222222222,\"#7201a8\"],[0.3333333333333333,\"#9c179e\"],[0.4444444444444444,\"#bd3786\"],[0.5555555555555556,\"#d8576b\"],[0.6666666666666666,\"#ed7953\"],[0.7777777777777778,\"#fb9f3a\"],[0.8888888888888888,\"#fdca26\"],[1.0,\"#f0f921\"]]}],\"heatmapgl\":[{\"type\":\"heatmapgl\",\"colorbar\":{\"outlinewidth\":0,\"ticks\":\"\"},\"colorscale\":[[0.0,\"#0d0887\"],[0.1111111111111111,\"#46039f\"],[0.2222222222222222,\"#7201a8\"],[0.3333333333333333,\"#9c179e\"],[0.4444444444444444,\"#bd3786\"],[0.5555555555555556,\"#d8576b\"],[0.6666666666666666,\"#ed7953\"],[0.7777777777777778,\"#fb9f3a\"],[0.8888888888888888,\"#fdca26\"],[1.0,\"#f0f921\"]]}],\"contourcarpet\":[{\"type\":\"contourcarpet\",\"colorbar\":{\"outlinewidth\":0,\"ticks\":\"\"}}],\"contour\":[{\"type\":\"contour\",\"colorbar\":{\"outlinewidth\":0,\"ticks\":\"\"},\"colorscale\":[[0.0,\"#0d0887\"],[0.1111111111111111,\"#46039f\"],[0.2222222222222222,\"#7201a8\"],[0.3333333333333333,\"#9c179e\"],[0.4444444444444444,\"#bd3786\"],[0.5555555555555556,\"#d8576b\"],[0.6666666666666666,\"#ed7953\"],[0.7777777777777778,\"#fb9f3a\"],[0.8888888888888888,\"#fdca26\"],[1.0,\"#f0f921\"]]}],\"surface\":[{\"type\":\"surface\",\"colorbar\":{\"outlinewidth\":0,\"ticks\":\"\"},\"colorscale\":[[0.0,\"#0d0887\"],[0.1111111111111111,\"#46039f\"],[0.2222222222222222,\"#7201a8\"],[0.3333333333333333,\"#9c179e\"],[0.4444444444444444,\"#bd3786\"],[0.5555555555555556,\"#d8576b\"],[0.6666666666666666,\"#ed7953\"],[0.7777777777777778,\"#fb9f3a\"],[0.8888888888888888,\"#fdca26\"],[1.0,\"#f0f921\"]]}],\"mesh3d\":[{\"type\":\"mesh3d\",\"colorbar\":{\"outlinewidth\":0,\"ticks\":\"\"}}],\"scatter\":[{\"fillpattern\":{\"fillmode\":\"overlay\",\"size\":10,\"solidity\":0.2},\"type\":\"scatter\"}],\"parcoords\":[{\"type\":\"parcoords\",\"line\":{\"colorbar\":{\"outlinewidth\":0,\"ticks\":\"\"}}}],\"scatterpolargl\":[{\"type\":\"scatterpolargl\",\"marker\":{\"colorbar\":{\"outlinewidth\":0,\"ticks\":\"\"}}}],\"bar\":[{\"error_x\":{\"color\":\"#2a3f5f\"},\"error_y\":{\"color\":\"#2a3f5f\"},\"marker\":{\"line\":{\"color\":\"white\",\"width\":0.5},\"pattern\":{\"fillmode\":\"overlay\",\"size\":10,\"solidity\":0.2}},\"type\":\"bar\"}],\"scattergeo\":[{\"type\":\"scattergeo\",\"marker\":{\"colorbar\":{\"outlinewidth\":0,\"ticks\":\"\"}}}],\"scatterpolar\":[{\"type\":\"scatterpolar\",\"marker\":{\"colorbar\":{\"outlinewidth\":0,\"ticks\":\"\"}}}],\"histogram\":[{\"marker\":{\"pattern\":{\"fillmode\":\"overlay\",\"size\":10,\"solidity\":0.2}},\"type\":\"histogram\"}],\"scattergl\":[{\"type\":\"scattergl\",\"marker\":{\"colorbar\":{\"outlinewidth\":0,\"ticks\":\"\"}}}],\"scatter3d\":[{\"type\":\"scatter3d\",\"line\":{\"colorbar\":{\"outlinewidth\":0,\"ticks\":\"\"}},\"marker\":{\"colorbar\":{\"outlinewidth\":0,\"ticks\":\"\"}}}],\"scattermapbox\":[{\"type\":\"scattermapbox\",\"marker\":{\"colorbar\":{\"outlinewidth\":0,\"ticks\":\"\"}}}],\"scatterternary\":[{\"type\":\"scatterternary\",\"marker\":{\"colorbar\":{\"outlinewidth\":0,\"ticks\":\"\"}}}],\"scattercarpet\":[{\"type\":\"scattercarpet\",\"marker\":{\"colorbar\":{\"outlinewidth\":0,\"ticks\":\"\"}}}],\"carpet\":[{\"aaxis\":{\"endlinecolor\":\"#2a3f5f\",\"gridcolor\":\"#C8D4E3\",\"linecolor\":\"#C8D4E3\",\"minorgridcolor\":\"#C8D4E3\",\"startlinecolor\":\"#2a3f5f\"},\"baxis\":{\"endlinecolor\":\"#2a3f5f\",\"gridcolor\":\"#C8D4E3\",\"linecolor\":\"#C8D4E3\",\"minorgridcolor\":\"#C8D4E3\",\"startlinecolor\":\"#2a3f5f\"},\"type\":\"carpet\"}],\"table\":[{\"cells\":{\"fill\":{\"color\":\"#EBF0F8\"},\"line\":{\"color\":\"white\"}},\"header\":{\"fill\":{\"color\":\"#C8D4E3\"},\"line\":{\"color\":\"white\"}},\"type\":\"table\"}],\"barpolar\":[{\"marker\":{\"line\":{\"color\":\"white\",\"width\":0.5},\"pattern\":{\"fillmode\":\"overlay\",\"size\":10,\"solidity\":0.2}},\"type\":\"barpolar\"}],\"pie\":[{\"automargin\":true,\"type\":\"pie\"}]},\"layout\":{\"autotypenumbers\":\"strict\",\"colorway\":[\"#636efa\",\"#EF553B\",\"#00cc96\",\"#ab63fa\",\"#FFA15A\",\"#19d3f3\",\"#FF6692\",\"#B6E880\",\"#FF97FF\",\"#FECB52\"],\"font\":{\"color\":\"#2a3f5f\"},\"hovermode\":\"closest\",\"hoverlabel\":{\"align\":\"left\"},\"paper_bgcolor\":\"white\",\"plot_bgcolor\":\"white\",\"polar\":{\"bgcolor\":\"white\",\"angularaxis\":{\"gridcolor\":\"#EBF0F8\",\"linecolor\":\"#EBF0F8\",\"ticks\":\"\"},\"radialaxis\":{\"gridcolor\":\"#EBF0F8\",\"linecolor\":\"#EBF0F8\",\"ticks\":\"\"}},\"ternary\":{\"bgcolor\":\"white\",\"aaxis\":{\"gridcolor\":\"#DFE8F3\",\"linecolor\":\"#A2B1C6\",\"ticks\":\"\"},\"baxis\":{\"gridcolor\":\"#DFE8F3\",\"linecolor\":\"#A2B1C6\",\"ticks\":\"\"},\"caxis\":{\"gridcolor\":\"#DFE8F3\",\"linecolor\":\"#A2B1C6\",\"ticks\":\"\"}},\"coloraxis\":{\"colorbar\":{\"outlinewidth\":0,\"ticks\":\"\"}},\"colorscale\":{\"sequential\":[[0.0,\"#0d0887\"],[0.1111111111111111,\"#46039f\"],[0.2222222222222222,\"#7201a8\"],[0.3333333333333333,\"#9c179e\"],[0.4444444444444444,\"#bd3786\"],[0.5555555555555556,\"#d8576b\"],[0.6666666666666666,\"#ed7953\"],[0.7777777777777778,\"#fb9f3a\"],[0.8888888888888888,\"#fdca26\"],[1.0,\"#f0f921\"]],\"sequentialminus\":[[0.0,\"#0d0887\"],[0.1111111111111111,\"#46039f\"],[0.2222222222222222,\"#7201a8\"],[0.3333333333333333,\"#9c179e\"],[0.4444444444444444,\"#bd3786\"],[0.5555555555555556,\"#d8576b\"],[0.6666666666666666,\"#ed7953\"],[0.7777777777777778,\"#fb9f3a\"],[0.8888888888888888,\"#fdca26\"],[1.0,\"#f0f921\"]],\"diverging\":[[0,\"#8e0152\"],[0.1,\"#c51b7d\"],[0.2,\"#de77ae\"],[0.3,\"#f1b6da\"],[0.4,\"#fde0ef\"],[0.5,\"#f7f7f7\"],[0.6,\"#e6f5d0\"],[0.7,\"#b8e186\"],[0.8,\"#7fbc41\"],[0.9,\"#4d9221\"],[1,\"#276419\"]]},\"xaxis\":{\"gridcolor\":\"#EBF0F8\",\"linecolor\":\"#EBF0F8\",\"ticks\":\"\",\"title\":{\"standoff\":15},\"zerolinecolor\":\"#EBF0F8\",\"automargin\":true,\"zerolinewidth\":2},\"yaxis\":{\"gridcolor\":\"#EBF0F8\",\"linecolor\":\"#EBF0F8\",\"ticks\":\"\",\"title\":{\"standoff\":15},\"zerolinecolor\":\"#EBF0F8\",\"automargin\":true,\"zerolinewidth\":2},\"scene\":{\"xaxis\":{\"backgroundcolor\":\"white\",\"gridcolor\":\"#DFE8F3\",\"linecolor\":\"#EBF0F8\",\"showbackground\":true,\"ticks\":\"\",\"zerolinecolor\":\"#EBF0F8\",\"gridwidth\":2},\"yaxis\":{\"backgroundcolor\":\"white\",\"gridcolor\":\"#DFE8F3\",\"linecolor\":\"#EBF0F8\",\"showbackground\":true,\"ticks\":\"\",\"zerolinecolor\":\"#EBF0F8\",\"gridwidth\":2},\"zaxis\":{\"backgroundcolor\":\"white\",\"gridcolor\":\"#DFE8F3\",\"linecolor\":\"#EBF0F8\",\"showbackground\":true,\"ticks\":\"\",\"zerolinecolor\":\"#EBF0F8\",\"gridwidth\":2}},\"shapedefaults\":{\"line\":{\"color\":\"#2a3f5f\"}},\"annotationdefaults\":{\"arrowcolor\":\"#2a3f5f\",\"arrowhead\":0,\"arrowwidth\":1},\"geo\":{\"bgcolor\":\"white\",\"landcolor\":\"white\",\"subunitcolor\":\"#C8D4E3\",\"showland\":true,\"showlakes\":true,\"lakecolor\":\"white\"},\"title\":{\"x\":0.05},\"mapbox\":{\"style\":\"light\"}}},\"xaxis\":{\"anchor\":\"y\",\"domain\":[0.0,1.0],\"title\":{\"text\":\"Customer Index\"}},\"yaxis\":{\"anchor\":\"x\",\"domain\":[0.0,1.0],\"title\":{\"text\":\"Credit Score\"}},\"legend\":{\"title\":{\"text\":\"Segment\"},\"tracegroupgap\":0},\"margin\":{\"t\":60},\"title\":{\"text\":\"Customer Segmentation based on Credit Scores\"}},                        {\"responsive\": true}                    ).then(function(){\n",
              "                            \n",
              "var gd = document.getElementById('ec801070-37e8-4315-bd47-909d2350606b');\n",
              "var x = new MutationObserver(function (mutations, observer) {{\n",
              "        var display = window.getComputedStyle(gd).display;\n",
              "        if (!display || display === 'none') {{\n",
              "            console.log([gd, 'removed!']);\n",
              "            Plotly.purge(gd);\n",
              "            observer.disconnect();\n",
              "        }}\n",
              "}});\n",
              "\n",
              "// Listen for the removal of the full notebook cells\n",
              "var notebookContainer = gd.closest('#notebook-container');\n",
              "if (notebookContainer) {{\n",
              "    x.observe(notebookContainer, {childList: true});\n",
              "}}\n",
              "\n",
              "// Listen for the clearing of the current output cell\n",
              "var outputEl = gd.closest('.output');\n",
              "if (outputEl) {{\n",
              "    x.observe(outputEl, {childList: true});\n",
              "}}\n",
              "\n",
              "                        })                };                            </script>        </div>\n",
              "</body>\n",
              "</html>"
            ]
          },
          "metadata": {}
        }
      ]
    },
    {
      "cell_type": "markdown",
      "source": [
        "# Conclusion"
      ],
      "metadata": {
        "id": "H8aJKKYpszQo"
      }
    },
    {
      "cell_type": "markdown",
      "source": [
        "Credit scoring and segmentation refer to the process of evaluating the creditworthiness of individuals or businesses and dividing them into distinct groups based on their credit profiles. It aims to assess the likelihood of borrowers repaying their debts and helps financial institutions make informed decisions regarding lending and managing credit risk."
      ],
      "metadata": {
        "id": "kAxIxh6ps5ir"
      }
    },
    {
      "cell_type": "code",
      "source": [],
      "metadata": {
        "id": "n49C2EeDsq7B"
      },
      "execution_count": null,
      "outputs": []
    },
    {
      "cell_type": "markdown",
      "source": [],
      "metadata": {
        "id": "9egDFwBIniWO"
      }
    }
  ]
}